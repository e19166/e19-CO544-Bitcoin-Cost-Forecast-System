{
  "nbformat": 4,
  "nbformat_minor": 0,
  "metadata": {
    "colab": {
      "provenance": []
    },
    "kernelspec": {
      "name": "python3",
      "display_name": "Python 3"
    },
    "language_info": {
      "name": "python"
    }
  },
  "cells": [
    {
      "cell_type": "markdown",
      "metadata": {
        "id": "view-in-github"
      },
      "source": [
        "<a href=\"https://colab.research.google.com/github/cepdnaclk/e19-co544-Bitcoin-Cost-Forecast-System/blob/main/Models/Multivariate_LSTM_Model.ipynb\" target=\"_parent\"><img src=\"https://colab.research.google.com/assets/colab-badge.svg\" alt=\"Open In Colab\"/></a>"
      ]
    },
    {
      "cell_type": "markdown",
      "source": [
        "# Import Data"
      ],
      "metadata": {
        "id": "0Eu-cIc3tKs2"
      }
    },
    {
      "cell_type": "code",
      "execution_count": 2,
      "metadata": {
        "colab": {
          "base_uri": "https://localhost:8080/"
        },
        "id": "nlXU7vyBtDlM",
        "outputId": "0e2d5be3-f184-4198-b623-cf4dfc70a3ed"
      },
      "outputs": [
        {
          "output_type": "stream",
          "name": "stdout",
          "text": [
            "                                   Open          High           Low  \\\n",
            "Date                                                                  \n",
            "2024-06-19 00:00:00+00:00  65146.660156  65695.351562  64693.300781   \n",
            "2024-06-20 00:00:00+00:00  64960.296875  66438.960938  64547.847656   \n",
            "2024-06-21 00:00:00+00:00  64837.988281  65007.546875  63378.894531   \n",
            "2024-06-22 00:00:00+00:00  64113.863281  64475.468750  63929.757812   \n",
            "2024-06-24 00:00:00+00:00  63173.351562  63264.613281  62647.945312   \n",
            "\n",
            "                                  Close       Volume  \n",
            "Date                                                  \n",
            "2024-06-19 00:00:00+00:00  64960.296875  21103423504  \n",
            "2024-06-20 00:00:00+00:00  64828.656250  25641109124  \n",
            "2024-06-21 00:00:00+00:00  64096.199219  26188171739  \n",
            "2024-06-22 00:00:00+00:00  64252.578125   9858198793  \n",
            "2024-06-24 00:00:00+00:00  62817.820312  14938336256  \n"
          ]
        }
      ],
      "source": [
        "import yfinance as yf\n",
        "import pandas as pd\n",
        "\n",
        "# Define the ticker simbol for Bitcoin\n",
        "ticker = 'BTC-USD'\n",
        "\n",
        "# Get historical market data\n",
        "hist = yf.Ticker(ticker).history(period=\"max\")\n",
        "\n",
        "\n",
        "# Making the 'Date' as the index\n",
        "hist.index = pd.to_datetime(hist.index)\n",
        "\n",
        "# Drop the \"Dividends\" column and \"Stock Splits\" column\n",
        "hist.drop(columns = ['Dividends', 'Stock Splits'], inplace = True)\n",
        "\n",
        "# Print the data\n",
        "print(hist.tail())"
      ]
    },
    {
      "cell_type": "markdown",
      "source": [
        "# Set Inputs and Outputs"
      ],
      "metadata": {
        "id": "ngTHFwGRO4bs"
      }
    },
    {
      "cell_type": "code",
      "source": [
        "X, y = hist.drop(columns = ['Close']), hist.Close.values\n",
        "X.shape, y.shape"
      ],
      "metadata": {
        "colab": {
          "base_uri": "https://localhost:8080/"
        },
        "id": "kH9k_HqcO9yv",
        "outputId": "9d438a3e-4179-4d67-f4e1-aa21c1033d96"
      },
      "execution_count": 3,
      "outputs": [
        {
          "output_type": "execute_result",
          "data": {
            "text/plain": [
              "((3568, 4), (3568,))"
            ]
          },
          "metadata": {},
          "execution_count": 3
        }
      ]
    },
    {
      "cell_type": "markdown",
      "source": [
        "## Standardize Features"
      ],
      "metadata": {
        "id": "CnhD38aQQKq3"
      }
    },
    {
      "cell_type": "code",
      "source": [
        "# Import the StandardScaler and MinMaxScaler classes from the sklearn.preprocessing module\n",
        "from sklearn.preprocessing import StandardScaler, MinMaxScaler\n",
        "\n",
        "# Create an instance of thee MinMaxScaler, which scales the data to a specified range (default is 0 to 1)\n",
        "mm = MinMaxScaler()\n",
        "\n",
        "# Creating an instance of the standardScaler, which standardizes the data by removing the mean and scaling to unit variance\n",
        "ss = StandardScaler()\n",
        "\n",
        "# Applying the StandardScaler to the feature matrix X to standardize the features\n",
        "# fit_transform() first fits the scaler to the data (calculating the mean and standard deviation) and then transforms the data\n",
        "X_trans = ss.fit_transform(X)\n",
        "\n",
        "# Reshaping the target variable y to be a 2D array with one column, as required by the MinMaxScaler\n",
        "# fit_transform() first fits the scaler to the data (calculating the min and max values) and then transforms the data\n",
        "y_trans = mm.fit_transform(y.reshape(-1, 1))"
      ],
      "metadata": {
        "id": "u5nkD1Y9QQvr"
      },
      "execution_count": 4,
      "outputs": []
    },
    {
      "cell_type": "markdown",
      "source": [
        "## Split a multivariate sequence past, future samples (X abd y)"
      ],
      "metadata": {
        "id": "6eFRNszUYFtV"
      }
    },
    {
      "cell_type": "code",
      "source": [
        "import numpy as np\n",
        "\n",
        "# split a multivariate sequence past, future samples (X and y)\n",
        "def split_sequences(input_sequences, output_sequence, n_steps_in, n_steps_out):\n",
        "\n",
        "    X, y = list(), list() # instantiate X and y\n",
        "\n",
        "    for i in range(len(input_sequences)):\n",
        "\n",
        "        # find the end of the input, output sequence\n",
        "        end_ix = i + n_steps_in\n",
        "        out_end_ix = end_ix + n_steps_out - 1\n",
        "\n",
        "        # check if we are beyond the dataset\n",
        "        if out_end_ix > len(input_sequences): break\n",
        "\n",
        "        # gather input and output of the pattern\n",
        "        seq_x, seq_y = input_sequences[i:end_ix], output_sequence[end_ix-1:out_end_ix, -1]\n",
        "        X.append(seq_x), y.append(seq_y)\n",
        "\n",
        "    return np.array(X), np.array(y)\n",
        "\n",
        "X_ss, y_mm = split_sequences(X_trans, y_trans, 2, 1)\n",
        "print(X_ss.shape, y_mm.shape)"
      ],
      "metadata": {
        "colab": {
          "base_uri": "https://localhost:8080/"
        },
        "id": "E14kM5v_YNoC",
        "outputId": "01b557e7-264c-42ff-f666-f5ca1736d32e"
      },
      "execution_count": 5,
      "outputs": [
        {
          "output_type": "stream",
          "name": "stdout",
          "text": [
            "(3567, 2, 4) (3567, 1)\n"
          ]
        }
      ]
    },
    {
      "cell_type": "markdown",
      "source": [
        "## Check the y_mm sample"
      ],
      "metadata": {
        "id": "3H5EB5XLaCW9"
      }
    },
    {
      "cell_type": "code",
      "source": [
        "print(\"y_mm[0]:\", y_mm[0])\n",
        "print(\"y_trans[99:100].squeeze(1):\", y_trans[99:100].squeeze(1))\n",
        "\n",
        "assert y_mm[0].all() == y_trans[99:100].squeeze(1).all()\n",
        "\n",
        "y_mm[0]"
      ],
      "metadata": {
        "colab": {
          "base_uri": "https://localhost:8080/"
        },
        "id": "FHCCou3QaUZ7",
        "outputId": "3844a210-468d-4965-ff57-29c9b8d86a42"
      },
      "execution_count": 6,
      "outputs": [
        {
          "output_type": "stream",
          "name": "stdout",
          "text": [
            "y_mm[0]: [0.00337886]\n",
            "y_trans[99:100].squeeze(1): [0.00193271]\n"
          ]
        },
        {
          "output_type": "execute_result",
          "data": {
            "text/plain": [
              "array([0.00337886])"
            ]
          },
          "metadata": {},
          "execution_count": 6
        }
      ]
    },
    {
      "cell_type": "code",
      "source": [
        "y_trans[99:100].squeeze(1)"
      ],
      "metadata": {
        "colab": {
          "base_uri": "https://localhost:8080/"
        },
        "id": "aPWIL8r0bl_U",
        "outputId": "64f096fe-9e7f-4420-e84f-4eeb1e9d19c5"
      },
      "execution_count": 7,
      "outputs": [
        {
          "output_type": "execute_result",
          "data": {
            "text/plain": [
              "array([0.00193271])"
            ]
          },
          "metadata": {},
          "execution_count": 7
        }
      ]
    },
    {
      "cell_type": "markdown",
      "source": [
        "## Split Training & Test Sets"
      ],
      "metadata": {
        "id": "9dobE9Epb86R"
      }
    },
    {
      "cell_type": "code",
      "source": [
        "total_samples = len(X)\n",
        "train_test_cutoff = round(0.90 * total_samples)\n",
        "\n",
        "X_train = X_ss[:-101]\n",
        "X_test = X_ss[-101:]\n",
        "\n",
        "y_train = y_mm[:-101]\n",
        "y_test = y_mm[-101:]\n",
        "\n",
        "print(\"Training Shape:\", X_train.shape, y_train.shape)\n",
        "print(\"Testing Shape:\", X_test.shape, y_test.shape)"
      ],
      "metadata": {
        "colab": {
          "base_uri": "https://localhost:8080/"
        },
        "id": "1n5K3gJScD4y",
        "outputId": "78b13d06-ff0d-42d6-bd45-d6f6116ac9cc"
      },
      "execution_count": 8,
      "outputs": [
        {
          "output_type": "stream",
          "name": "stdout",
          "text": [
            "Training Shape: (3466, 2, 4) (3466, 1)\n",
            "Testing Shape: (101, 2, 4) (101, 1)\n"
          ]
        }
      ]
    },
    {
      "cell_type": "markdown",
      "source": [
        "## Convert Data Into Tensors"
      ],
      "metadata": {
        "id": "V_Uw5iQMui3v"
      }
    },
    {
      "cell_type": "code",
      "source": [
        "import torch\n",
        "\n",
        "# convert to pytorch tensors\n",
        "X_train_tensors = torch.Tensor(X_train).requires_grad_(True)\n",
        "X_test_tensors = torch.Tensor(X_test).requires_grad_(True)\n",
        "\n",
        "y_train_tensors = torch.Tensor(y_train).requires_grad_(True)\n",
        "y_test_tensors = torch.Tensor(y_test).requires_grad_(True)\n"
      ],
      "metadata": {
        "id": "efuy9zaQutfZ"
      },
      "execution_count": 9,
      "outputs": []
    },
    {
      "cell_type": "markdown",
      "source": [
        "## Reshaping to rows, timestamps, features"
      ],
      "metadata": {
        "id": "a-TGG9OCzOAL"
      }
    },
    {
      "cell_type": "code",
      "source": [
        "# reshaping to rows, timestamps, features\n",
        "X_train_tensors_final = torch.reshape(X_train_tensors,\n",
        "                                      (X_train_tensors.shape[0], 2,\n",
        "                                       X_train_tensors.shape[2]))\n",
        "X_test_tensors_final = torch.reshape(X_test_tensors,\n",
        "                                     (X_test_tensors.shape[0], 2,\n",
        "                                      X_test_tensors.shape[2]))\n",
        "\n",
        "print(\"Training Shape:\", X_train_tensors_final.shape, y_train_tensors.shape)\n",
        "print(\"Testing Shape:\", X_test_tensors_final.shape, y_test_tensors.shape)"
      ],
      "metadata": {
        "colab": {
          "base_uri": "https://localhost:8080/"
        },
        "id": "skTdXZlwzWyU",
        "outputId": "b760b886-e2d5-4e72-a25f-1d36a3db4492"
      },
      "execution_count": 10,
      "outputs": [
        {
          "output_type": "stream",
          "name": "stdout",
          "text": [
            "Training Shape: torch.Size([3466, 2, 4]) torch.Size([3466, 1])\n",
            "Testing Shape: torch.Size([101, 2, 4]) torch.Size([101, 1])\n"
          ]
        }
      ]
    },
    {
      "cell_type": "code",
      "source": [
        "X_check, y_check = split_sequences(X, y.reshape(-1, 1), 2, 1)\n",
        "X_check[-1][0:4]\n",
        "\n",
        "X.iloc[-149:-145]"
      ],
      "metadata": {
        "colab": {
          "base_uri": "https://localhost:8080/",
          "height": 206
        },
        "id": "-67vt9hOz7RK",
        "outputId": "46c4f86b-48f3-41e4-d02c-2ab8ecd4f7e9"
      },
      "execution_count": 11,
      "outputs": [
        {
          "output_type": "execute_result",
          "data": {
            "text/plain": [
              "                                   Open          High           Low  \\\n",
              "Date                                                                  \n",
              "2024-01-27 00:00:00+00:00  41815.625000  42195.632812  41431.281250   \n",
              "2024-01-28 00:00:00+00:00  42126.125000  42797.175781  41696.910156   \n",
              "2024-01-29 00:00:00+00:00  42030.914062  43305.867188  41818.332031   \n",
              "2024-01-30 00:00:00+00:00  43300.226562  43838.945312  42711.371094   \n",
              "\n",
              "                                Volume  \n",
              "Date                                    \n",
              "2024-01-27 00:00:00+00:00  11422941934  \n",
              "2024-01-28 00:00:00+00:00  16858971687  \n",
              "2024-01-29 00:00:00+00:00  20668476578  \n",
              "2024-01-30 00:00:00+00:00  23842814518  "
            ],
            "text/html": [
              "\n",
              "  <div id=\"df-e113b265-cc40-4a0b-aba2-d8bdb62c01b7\" class=\"colab-df-container\">\n",
              "    <div>\n",
              "<style scoped>\n",
              "    .dataframe tbody tr th:only-of-type {\n",
              "        vertical-align: middle;\n",
              "    }\n",
              "\n",
              "    .dataframe tbody tr th {\n",
              "        vertical-align: top;\n",
              "    }\n",
              "\n",
              "    .dataframe thead th {\n",
              "        text-align: right;\n",
              "    }\n",
              "</style>\n",
              "<table border=\"1\" class=\"dataframe\">\n",
              "  <thead>\n",
              "    <tr style=\"text-align: right;\">\n",
              "      <th></th>\n",
              "      <th>Open</th>\n",
              "      <th>High</th>\n",
              "      <th>Low</th>\n",
              "      <th>Volume</th>\n",
              "    </tr>\n",
              "    <tr>\n",
              "      <th>Date</th>\n",
              "      <th></th>\n",
              "      <th></th>\n",
              "      <th></th>\n",
              "      <th></th>\n",
              "    </tr>\n",
              "  </thead>\n",
              "  <tbody>\n",
              "    <tr>\n",
              "      <th>2024-01-27 00:00:00+00:00</th>\n",
              "      <td>41815.625000</td>\n",
              "      <td>42195.632812</td>\n",
              "      <td>41431.281250</td>\n",
              "      <td>11422941934</td>\n",
              "    </tr>\n",
              "    <tr>\n",
              "      <th>2024-01-28 00:00:00+00:00</th>\n",
              "      <td>42126.125000</td>\n",
              "      <td>42797.175781</td>\n",
              "      <td>41696.910156</td>\n",
              "      <td>16858971687</td>\n",
              "    </tr>\n",
              "    <tr>\n",
              "      <th>2024-01-29 00:00:00+00:00</th>\n",
              "      <td>42030.914062</td>\n",
              "      <td>43305.867188</td>\n",
              "      <td>41818.332031</td>\n",
              "      <td>20668476578</td>\n",
              "    </tr>\n",
              "    <tr>\n",
              "      <th>2024-01-30 00:00:00+00:00</th>\n",
              "      <td>43300.226562</td>\n",
              "      <td>43838.945312</td>\n",
              "      <td>42711.371094</td>\n",
              "      <td>23842814518</td>\n",
              "    </tr>\n",
              "  </tbody>\n",
              "</table>\n",
              "</div>\n",
              "    <div class=\"colab-df-buttons\">\n",
              "\n",
              "  <div class=\"colab-df-container\">\n",
              "    <button class=\"colab-df-convert\" onclick=\"convertToInteractive('df-e113b265-cc40-4a0b-aba2-d8bdb62c01b7')\"\n",
              "            title=\"Convert this dataframe to an interactive table.\"\n",
              "            style=\"display:none;\">\n",
              "\n",
              "  <svg xmlns=\"http://www.w3.org/2000/svg\" height=\"24px\" viewBox=\"0 -960 960 960\">\n",
              "    <path d=\"M120-120v-720h720v720H120Zm60-500h600v-160H180v160Zm220 220h160v-160H400v160Zm0 220h160v-160H400v160ZM180-400h160v-160H180v160Zm440 0h160v-160H620v160ZM180-180h160v-160H180v160Zm440 0h160v-160H620v160Z\"/>\n",
              "  </svg>\n",
              "    </button>\n",
              "\n",
              "  <style>\n",
              "    .colab-df-container {\n",
              "      display:flex;\n",
              "      gap: 12px;\n",
              "    }\n",
              "\n",
              "    .colab-df-convert {\n",
              "      background-color: #E8F0FE;\n",
              "      border: none;\n",
              "      border-radius: 50%;\n",
              "      cursor: pointer;\n",
              "      display: none;\n",
              "      fill: #1967D2;\n",
              "      height: 32px;\n",
              "      padding: 0 0 0 0;\n",
              "      width: 32px;\n",
              "    }\n",
              "\n",
              "    .colab-df-convert:hover {\n",
              "      background-color: #E2EBFA;\n",
              "      box-shadow: 0px 1px 2px rgba(60, 64, 67, 0.3), 0px 1px 3px 1px rgba(60, 64, 67, 0.15);\n",
              "      fill: #174EA6;\n",
              "    }\n",
              "\n",
              "    .colab-df-buttons div {\n",
              "      margin-bottom: 4px;\n",
              "    }\n",
              "\n",
              "    [theme=dark] .colab-df-convert {\n",
              "      background-color: #3B4455;\n",
              "      fill: #D2E3FC;\n",
              "    }\n",
              "\n",
              "    [theme=dark] .colab-df-convert:hover {\n",
              "      background-color: #434B5C;\n",
              "      box-shadow: 0px 1px 3px 1px rgba(0, 0, 0, 0.15);\n",
              "      filter: drop-shadow(0px 1px 2px rgba(0, 0, 0, 0.3));\n",
              "      fill: #FFFFFF;\n",
              "    }\n",
              "  </style>\n",
              "\n",
              "    <script>\n",
              "      const buttonEl =\n",
              "        document.querySelector('#df-e113b265-cc40-4a0b-aba2-d8bdb62c01b7 button.colab-df-convert');\n",
              "      buttonEl.style.display =\n",
              "        google.colab.kernel.accessAllowed ? 'block' : 'none';\n",
              "\n",
              "      async function convertToInteractive(key) {\n",
              "        const element = document.querySelector('#df-e113b265-cc40-4a0b-aba2-d8bdb62c01b7');\n",
              "        const dataTable =\n",
              "          await google.colab.kernel.invokeFunction('convertToInteractive',\n",
              "                                                    [key], {});\n",
              "        if (!dataTable) return;\n",
              "\n",
              "        const docLinkHtml = 'Like what you see? Visit the ' +\n",
              "          '<a target=\"_blank\" href=https://colab.research.google.com/notebooks/data_table.ipynb>data table notebook</a>'\n",
              "          + ' to learn more about interactive tables.';\n",
              "        element.innerHTML = '';\n",
              "        dataTable['output_type'] = 'display_data';\n",
              "        await google.colab.output.renderOutput(dataTable, element);\n",
              "        const docLink = document.createElement('div');\n",
              "        docLink.innerHTML = docLinkHtml;\n",
              "        element.appendChild(docLink);\n",
              "      }\n",
              "    </script>\n",
              "  </div>\n",
              "\n",
              "\n",
              "<div id=\"df-7d8dc0e3-1eb7-4d04-b01b-dc754a038ff5\">\n",
              "  <button class=\"colab-df-quickchart\" onclick=\"quickchart('df-7d8dc0e3-1eb7-4d04-b01b-dc754a038ff5')\"\n",
              "            title=\"Suggest charts\"\n",
              "            style=\"display:none;\">\n",
              "\n",
              "<svg xmlns=\"http://www.w3.org/2000/svg\" height=\"24px\"viewBox=\"0 0 24 24\"\n",
              "     width=\"24px\">\n",
              "    <g>\n",
              "        <path d=\"M19 3H5c-1.1 0-2 .9-2 2v14c0 1.1.9 2 2 2h14c1.1 0 2-.9 2-2V5c0-1.1-.9-2-2-2zM9 17H7v-7h2v7zm4 0h-2V7h2v10zm4 0h-2v-4h2v4z\"/>\n",
              "    </g>\n",
              "</svg>\n",
              "  </button>\n",
              "\n",
              "<style>\n",
              "  .colab-df-quickchart {\n",
              "      --bg-color: #E8F0FE;\n",
              "      --fill-color: #1967D2;\n",
              "      --hover-bg-color: #E2EBFA;\n",
              "      --hover-fill-color: #174EA6;\n",
              "      --disabled-fill-color: #AAA;\n",
              "      --disabled-bg-color: #DDD;\n",
              "  }\n",
              "\n",
              "  [theme=dark] .colab-df-quickchart {\n",
              "      --bg-color: #3B4455;\n",
              "      --fill-color: #D2E3FC;\n",
              "      --hover-bg-color: #434B5C;\n",
              "      --hover-fill-color: #FFFFFF;\n",
              "      --disabled-bg-color: #3B4455;\n",
              "      --disabled-fill-color: #666;\n",
              "  }\n",
              "\n",
              "  .colab-df-quickchart {\n",
              "    background-color: var(--bg-color);\n",
              "    border: none;\n",
              "    border-radius: 50%;\n",
              "    cursor: pointer;\n",
              "    display: none;\n",
              "    fill: var(--fill-color);\n",
              "    height: 32px;\n",
              "    padding: 0;\n",
              "    width: 32px;\n",
              "  }\n",
              "\n",
              "  .colab-df-quickchart:hover {\n",
              "    background-color: var(--hover-bg-color);\n",
              "    box-shadow: 0 1px 2px rgba(60, 64, 67, 0.3), 0 1px 3px 1px rgba(60, 64, 67, 0.15);\n",
              "    fill: var(--button-hover-fill-color);\n",
              "  }\n",
              "\n",
              "  .colab-df-quickchart-complete:disabled,\n",
              "  .colab-df-quickchart-complete:disabled:hover {\n",
              "    background-color: var(--disabled-bg-color);\n",
              "    fill: var(--disabled-fill-color);\n",
              "    box-shadow: none;\n",
              "  }\n",
              "\n",
              "  .colab-df-spinner {\n",
              "    border: 2px solid var(--fill-color);\n",
              "    border-color: transparent;\n",
              "    border-bottom-color: var(--fill-color);\n",
              "    animation:\n",
              "      spin 1s steps(1) infinite;\n",
              "  }\n",
              "\n",
              "  @keyframes spin {\n",
              "    0% {\n",
              "      border-color: transparent;\n",
              "      border-bottom-color: var(--fill-color);\n",
              "      border-left-color: var(--fill-color);\n",
              "    }\n",
              "    20% {\n",
              "      border-color: transparent;\n",
              "      border-left-color: var(--fill-color);\n",
              "      border-top-color: var(--fill-color);\n",
              "    }\n",
              "    30% {\n",
              "      border-color: transparent;\n",
              "      border-left-color: var(--fill-color);\n",
              "      border-top-color: var(--fill-color);\n",
              "      border-right-color: var(--fill-color);\n",
              "    }\n",
              "    40% {\n",
              "      border-color: transparent;\n",
              "      border-right-color: var(--fill-color);\n",
              "      border-top-color: var(--fill-color);\n",
              "    }\n",
              "    60% {\n",
              "      border-color: transparent;\n",
              "      border-right-color: var(--fill-color);\n",
              "    }\n",
              "    80% {\n",
              "      border-color: transparent;\n",
              "      border-right-color: var(--fill-color);\n",
              "      border-bottom-color: var(--fill-color);\n",
              "    }\n",
              "    90% {\n",
              "      border-color: transparent;\n",
              "      border-bottom-color: var(--fill-color);\n",
              "    }\n",
              "  }\n",
              "</style>\n",
              "\n",
              "  <script>\n",
              "    async function quickchart(key) {\n",
              "      const quickchartButtonEl =\n",
              "        document.querySelector('#' + key + ' button');\n",
              "      quickchartButtonEl.disabled = true;  // To prevent multiple clicks.\n",
              "      quickchartButtonEl.classList.add('colab-df-spinner');\n",
              "      try {\n",
              "        const charts = await google.colab.kernel.invokeFunction(\n",
              "            'suggestCharts', [key], {});\n",
              "      } catch (error) {\n",
              "        console.error('Error during call to suggestCharts:', error);\n",
              "      }\n",
              "      quickchartButtonEl.classList.remove('colab-df-spinner');\n",
              "      quickchartButtonEl.classList.add('colab-df-quickchart-complete');\n",
              "    }\n",
              "    (() => {\n",
              "      let quickchartButtonEl =\n",
              "        document.querySelector('#df-7d8dc0e3-1eb7-4d04-b01b-dc754a038ff5 button');\n",
              "      quickchartButtonEl.style.display =\n",
              "        google.colab.kernel.accessAllowed ? 'block' : 'none';\n",
              "    })();\n",
              "  </script>\n",
              "</div>\n",
              "\n",
              "    </div>\n",
              "  </div>\n"
            ],
            "application/vnd.google.colaboratory.intrinsic+json": {
              "type": "dataframe",
              "summary": "{\n  \"name\": \"X\",\n  \"rows\": 4,\n  \"fields\": [\n    {\n      \"column\": \"Date\",\n      \"properties\": {\n        \"dtype\": \"date\",\n        \"min\": \"2024-01-27 00:00:00+00:00\",\n        \"max\": \"2024-01-30 00:00:00+00:00\",\n        \"num_unique_values\": 4,\n        \"samples\": [\n          \"2024-01-28 00:00:00+00:00\",\n          \"2024-01-30 00:00:00+00:00\",\n          \"2024-01-27 00:00:00+00:00\"\n        ],\n        \"semantic_type\": \"\",\n        \"description\": \"\"\n      }\n    },\n    {\n      \"column\": \"Open\",\n      \"properties\": {\n        \"dtype\": \"number\",\n        \"std\": 667.4288510239868,\n        \"min\": 41815.625,\n        \"max\": 43300.2265625,\n        \"num_unique_values\": 4,\n        \"samples\": [\n          42126.125,\n          43300.2265625,\n          41815.625\n        ],\n        \"semantic_type\": \"\",\n        \"description\": \"\"\n      }\n    },\n    {\n      \"column\": \"High\",\n      \"properties\": {\n        \"dtype\": \"number\",\n        \"std\": 702.5651377705971,\n        \"min\": 42195.6328125,\n        \"max\": 43838.9453125,\n        \"num_unique_values\": 4,\n        \"samples\": [\n          42797.17578125,\n          43838.9453125,\n          42195.6328125\n        ],\n        \"semantic_type\": \"\",\n        \"description\": \"\"\n      }\n    },\n    {\n      \"column\": \"Low\",\n      \"properties\": {\n        \"dtype\": \"number\",\n        \"std\": 555.306976948072,\n        \"min\": 41431.28125,\n        \"max\": 42711.37109375,\n        \"num_unique_values\": 4,\n        \"samples\": [\n          41696.91015625,\n          42711.37109375,\n          41431.28125\n        ],\n        \"semantic_type\": \"\",\n        \"description\": \"\"\n      }\n    },\n    {\n      \"column\": \"Volume\",\n      \"properties\": {\n        \"dtype\": \"number\",\n        \"std\": 5343581624,\n        \"min\": 11422941934,\n        \"max\": 23842814518,\n        \"num_unique_values\": 4,\n        \"samples\": [\n          16858971687,\n          23842814518,\n          11422941934\n        ],\n        \"semantic_type\": \"\",\n        \"description\": \"\"\n      }\n    }\n  ]\n}"
            }
          },
          "metadata": {},
          "execution_count": 11
        }
      ]
    },
    {
      "cell_type": "code",
      "source": [
        "y_check[-1]"
      ],
      "metadata": {
        "colab": {
          "base_uri": "https://localhost:8080/"
        },
        "id": "D1-kKqLI0lYQ",
        "outputId": "4212cefc-7109-4d1e-a662-43ffb39310a3"
      },
      "execution_count": 12,
      "outputs": [
        {
          "output_type": "execute_result",
          "data": {
            "text/plain": [
              "array([62817.8203125])"
            ]
          },
          "metadata": {},
          "execution_count": 12
        }
      ]
    },
    {
      "cell_type": "code",
      "source": [
        "hist.Close.values[-1:]"
      ],
      "metadata": {
        "colab": {
          "base_uri": "https://localhost:8080/"
        },
        "id": "eZuj1Qyu0nTJ",
        "outputId": "9fbe98d8-ccfa-4cfd-ed7b-7bfcbca2820e"
      },
      "execution_count": 13,
      "outputs": [
        {
          "output_type": "execute_result",
          "data": {
            "text/plain": [
              "array([62817.8203125])"
            ]
          },
          "metadata": {},
          "execution_count": 13
        }
      ]
    },
    {
      "cell_type": "markdown",
      "source": [
        "# LSTM Model"
      ],
      "metadata": {
        "id": "N3z1bFMi1Axw"
      }
    },
    {
      "cell_type": "code",
      "source": [
        "import torch.nn as nn\n",
        "\n",
        "class LSTM(nn.Module):\n",
        "\n",
        "    def __init__(self, num_classes, input_size, hidden_size, num_layers):\n",
        "        super().__init__()\n",
        "        self.num_classes = num_classes # output size\n",
        "        self.num_layers = num_layers # number of recurrent layers in the lstm\n",
        "        self.input_size = input_size # input size\n",
        "        self.hidden_size = hidden_size # neurons in each lstm layer\n",
        "        # LSTM model\n",
        "        self.lstm = nn.LSTM(input_size=input_size, hidden_size=hidden_size,\n",
        "                            num_layers=num_layers, batch_first=True, dropout=0.2) # lstm\n",
        "        self.fc_1 =  nn.Linear(hidden_size, 128) # fully connected\n",
        "        self.fc_2 = nn.Linear(128, num_classes) # fully connected last layer\n",
        "        self.relu = nn.ReLU()\n",
        "\n",
        "    def forward(self,x):\n",
        "        # hidden state\n",
        "        h_0 = torch.zeros(self.num_layers, x.size(0), self.hidden_size).to(x.device)\n",
        "        # cell state\n",
        "        c_0 = torch.zeros(self.num_layers, x.size(0), self.hidden_size).to(x.device)\n",
        "        # propagate input through LSTM\n",
        "        output, (hn, cn) = self.lstm(x, (h_0, c_0)) # (input, hidden, and internal state)\n",
        "        hn = hn.view(-1, self.hidden_size) # reshaping the data for Dense layer next\n",
        "        out = self.relu(hn)\n",
        "        out = self.fc_1(out) # first dense\n",
        "        out = self.relu(out) # relu\n",
        "        out = self.fc_2(out) # final output\n",
        "        return out"
      ],
      "metadata": {
        "id": "P6yM2csq1EO3"
      },
      "execution_count": 14,
      "outputs": []
    },
    {
      "cell_type": "markdown",
      "source": [
        "# Training"
      ],
      "metadata": {
        "id": "k490yp2S_v-S"
      }
    },
    {
      "cell_type": "code",
      "source": [
        "def training_loop(n_epochs, lstm, optimiser, loss_fn, X_train, y_train,\n",
        "                  X_test, y_test):\n",
        "    for epoch in range(n_epochs):\n",
        "        lstm.train()\n",
        "        outputs = lstm.forward(X_train) # forward pass\n",
        "        optimiser.zero_grad() # calculate the gradient, manually setting to 0\n",
        "        # obtain the loss function\n",
        "        loss = loss_fn(outputs, y_train)\n",
        "        loss.backward() # calculates the loss of the loss function\n",
        "        optimiser.step() # improve from loss, i.e backprop\n",
        "        # test loss\n",
        "        lstm.eval()\n",
        "        test_preds = lstm(X_test)\n",
        "        test_loss = loss_fn(test_preds, y_test)\n",
        "        if epoch % 100 == 0:\n",
        "            print(\"Epoch: %d, train loss: %1.5f, test loss: %1.5f\" % (epoch,\n",
        "                                                                      loss.item(),\n",
        "                                                                      test_loss.item()))"
      ],
      "metadata": {
        "id": "NOM7JyN1_vnK"
      },
      "execution_count": 15,
      "outputs": []
    },
    {
      "cell_type": "markdown",
      "source": [
        "# Instance of a LSTM Model"
      ],
      "metadata": {
        "id": "G7XX6boNgzc1"
      }
    },
    {
      "cell_type": "code",
      "source": [
        "import warnings\n",
        "warnings.filterwarnings('ignore')\n",
        "\n",
        "n_epochs = 1000 # 1000 epochs\n",
        "learning_rate = 0.001 # 0.001 lr\n",
        "\n",
        "input_size = 4 # number of features\n",
        "hidden_size = 2 # number of features in hidden state\n",
        "num_layers = 1 # number of stacked lstm layers\n",
        "\n",
        "num_classes = 1 # number of output classes\n",
        "\n",
        "lstm = LSTM(num_classes,\n",
        "              input_size,\n",
        "              hidden_size,\n",
        "              num_layers)"
      ],
      "metadata": {
        "id": "aIdXBEyigymq"
      },
      "execution_count": 16,
      "outputs": []
    },
    {
      "cell_type": "markdown",
      "source": [
        "# Training Loop (MSE as the loss function)"
      ],
      "metadata": {
        "id": "ugWnxRPNhY-r"
      }
    },
    {
      "cell_type": "code",
      "source": [
        "loss_fn = torch.nn.MSELoss()    # mean-squared error for regression\n",
        "optimiser = torch.optim.Adam(lstm.parameters(), lr=learning_rate)\n",
        "\n",
        "\n",
        "training_loop(n_epochs=n_epochs,\n",
        "              lstm=lstm,\n",
        "              optimiser=optimiser,\n",
        "              loss_fn=loss_fn,\n",
        "              X_train=X_train_tensors_final,\n",
        "              y_train=y_train_tensors,\n",
        "              X_test=X_test_tensors_final,\n",
        "              y_test=y_test_tensors)\n",
        "\n"
      ],
      "metadata": {
        "colab": {
          "base_uri": "https://localhost:8080/"
        },
        "id": "CRz6C0LGhcdy",
        "outputId": "cbf58841-b2fa-4dbd-dd98-e2d91bca6f7b"
      },
      "execution_count": 17,
      "outputs": [
        {
          "output_type": "stream",
          "name": "stdout",
          "text": [
            "Epoch: 0, train loss: 0.05240, test loss: 0.45301\n",
            "Epoch: 100, train loss: 0.00219, test loss: 0.00864\n",
            "Epoch: 200, train loss: 0.00110, test loss: 0.00311\n",
            "Epoch: 300, train loss: 0.00053, test loss: 0.00252\n",
            "Epoch: 400, train loss: 0.00029, test loss: 0.00321\n",
            "Epoch: 500, train loss: 0.00021, test loss: 0.00361\n",
            "Epoch: 600, train loss: 0.00017, test loss: 0.00314\n",
            "Epoch: 700, train loss: 0.00015, test loss: 0.00263\n",
            "Epoch: 800, train loss: 0.00014, test loss: 0.00221\n",
            "Epoch: 900, train loss: 0.00012, test loss: 0.00183\n"
          ]
        }
      ]
    },
    {
      "cell_type": "code",
      "source": [
        "input_data = [\n",
        "    [465.864014, 468.174011, 452.421997, 21056800],  # Day 1\n",
        "    [456.859985, 456.859985, 413.104004, 34483200]]  # Day 2\n",
        "\n",
        "  # Assuming 'scaler' is already fitted to the training data\n",
        "input_data_scaled = ss.transform(input_data)  # Scale the data\n",
        "input_tensor = torch.Tensor(input_data_scaled).unsqueeze(0)  # Convert to tensor and add batch dimension\n",
        "\n",
        "# Make prediction with the LSTM model\n",
        "lstm.eval()  # Set the model to evaluation mode\n",
        "with torch.no_grad():  # Disable gradient computation\n",
        "    prediction_tensor = lstm(input_tensor)  # Make the prediction\n",
        "\n",
        "# Reshape the prediction to match the number of features\n",
        "prediction_reshaped = prediction_tensor.numpy().reshape(-1, 1)\n",
        "\n",
        "# Reverse the scaling of the prediction\n",
        "prediction_reshaped = mm.inverse_transform(prediction_reshaped)\n",
        "\n",
        "# Since we're only interested in the 'Close' price, select the relevant column\n",
        "predicted_close_price = prediction_reshaped[0][0]\n",
        "\n",
        "print(f\"Predicted Close price: {predicted_close_price}\")\n"
      ],
      "metadata": {
        "colab": {
          "base_uri": "https://localhost:8080/"
        },
        "id": "D5RS22VIpHYw",
        "outputId": "9108aaf7-a92a-4bed-be40-95525396881c"
      },
      "execution_count": 18,
      "outputs": [
        {
          "output_type": "stream",
          "name": "stdout",
          "text": [
            "Predicted Close price: 445.9823303222656\n"
          ]
        }
      ]
    },
    {
      "cell_type": "markdown",
      "source": [
        "# Prediction"
      ],
      "metadata": {
        "id": "Y1YsiofNjNAc"
      }
    },
    {
      "cell_type": "code",
      "source": [
        "# import matplotlib.pyplot as plt\n",
        "\n",
        "# df_X_ss = ss.transform(hist.drop(columns=['Close'])) # old transformers\n",
        "# df_y_mm = mm.transform(hist.Close.values.reshape(-1, 1)) # old transformers\n",
        "# # split the sequence\n",
        "# df_X_ss, df_y_mm = split_sequences(df_X_ss, df_y_mm, 100, 1)\n",
        "# # converting to tensors\n",
        "# df_X_ss = torch.Tensor(df_X_ss)\n",
        "# df_y_mm = torch.Tensor(df_y_mm)\n",
        "# # reshaping the dataset\n",
        "# df_X_ss = torch.reshape(df_X_ss, (df_X_ss.shape[0], 100, df_X_ss.shape[2]))\n",
        "\n",
        "# train_predict = lstm(df_X_ss) # forward pass\n",
        "# data_predict = train_predict.data.numpy() # numpy conversion\n",
        "# dataY_plot = df_y_mm.data.numpy()\n",
        "\n",
        "# data_predict = mm.inverse_transform(data_predict) # reverse transformation\n",
        "\n",
        "# dataY_plot = mm.inverse_transform(dataY_plot)\n",
        "# true, preds = [], []\n",
        "# for i in range(len(dataY_plot)):\n",
        "#     true.append(dataY_plot[i][0])\n",
        "# for i in range(len(data_predict)):\n",
        "#     preds.append(data_predict[i][0])\n",
        "\n",
        "\n",
        "# plt.figure(figsize=(10,6)) #plotting\n",
        "# plt.axvline(x=train_test_cutoff, c='r', linestyle='--') # size of the training set\n",
        "\n",
        "# plt.plot(true, label='Actual Data') # actual plot\n",
        "# plt.plot(preds, label='Predicted Data') # predicted plot\n",
        "# plt.title('Time-Series Prediction')\n",
        "# plt.legend()\n",
        "# plt.savefig(\"whole_plot.png\", dpi=300)\n",
        "# plt.show()\n",
        "\n",
        "# print(preds[-1])"
      ],
      "metadata": {
        "id": "IhoHdiuojQNa"
      },
      "execution_count": null,
      "outputs": []
    },
    {
      "cell_type": "markdown",
      "source": [
        "# Save as a pickle file"
      ],
      "metadata": {
        "id": "4xtRAVdKnYUP"
      }
    },
    {
      "cell_type": "code",
      "source": [
        "import pickle\n",
        "\n",
        "# Save the LSTM model\n",
        "with open('lstm_model.pkl', 'wb') as f:\n",
        "    pickle.dump(lstm, f)"
      ],
      "metadata": {
        "id": "wGy62sfOnciQ"
      },
      "execution_count": 19,
      "outputs": []
    },
    {
      "cell_type": "code",
      "source": [
        "loaded_model = pickle.load(open('lstm_model.pkl', 'rb'))"
      ],
      "metadata": {
        "id": "rzW0GFkvoOc0"
      },
      "execution_count": 20,
      "outputs": []
    },
    {
      "cell_type": "code",
      "source": [
        "input_data = [\n",
        "    [465.864014, 468.174011, 452.421997, 21056800],  # Day 1\n",
        "    [456.859985, 456.859985, 413.104004, 34483200]]  # Day 2\n",
        "\n",
        "  # Assuming 'scaler' is already fitted to the training data\n",
        "input_data_scaled = ss.transform(input_data)  # Scale the data\n",
        "input_tensor = torch.Tensor(input_data_scaled).unsqueeze(0)  # Convert to tensor and add batch dimension\n",
        "\n",
        "# Make prediction with the LSTM model\n",
        "loaded_model.eval()  # Set the model to evaluation mode\n",
        "with torch.no_grad():  # Disable gradient computation\n",
        "    prediction_tensor = loaded_model(input_tensor)  # Make the prediction\n",
        "\n",
        "# Reshape the prediction to match the number of features\n",
        "prediction_reshaped = prediction_tensor.numpy().reshape(-1, 1)\n",
        "\n",
        "# Reverse the scaling of the prediction\n",
        "prediction_reshaped = mm.inverse_transform(prediction_reshaped)\n",
        "\n",
        "# Since we're only interested in the 'Close' price, select the relevant column\n",
        "predicted_close_price = prediction_reshaped[0][0]\n",
        "\n",
        "print(f\"Predicted Close price: {predicted_close_price}\")\n"
      ],
      "metadata": {
        "colab": {
          "base_uri": "https://localhost:8080/"
        },
        "id": "gIw4ROLOoUIS",
        "outputId": "6d54546e-04c4-4a7b-f107-6ccd3b804a18"
      },
      "execution_count": 21,
      "outputs": [
        {
          "output_type": "stream",
          "name": "stdout",
          "text": [
            "Predicted Close price: 445.9823303222656\n"
          ]
        }
      ]
    },
    {
      "cell_type": "markdown",
      "source": [
        "# Model Evaluation"
      ],
      "metadata": {
        "id": "F0wpzXi3-xwZ"
      }
    },
    {
      "cell_type": "markdown",
      "source": [
        "## RMSE"
      ],
      "metadata": {
        "id": "eNP-84dFzCOR"
      }
    },
    {
      "cell_type": "code",
      "source": [
        "import torch\n",
        "\n",
        "# Function to evaluate the model\n",
        "def evaluate_model(model, X_test, y_test):\n",
        "    model.eval()  # Set the model to evaluation mode\n",
        "    with torch.no_grad():  # Turn off gradients for validation, saves memory and computations\n",
        "        predictions = model(X_test)\n",
        "        # Calculate the RMSE loss\n",
        "        mse = torch.mean((predictions - y_test)**2)  # Calculate mean squared error\n",
        "        rmse = torch.sqrt(mse)  # Calculate the square root of the MSE to get RMSE\n",
        "    return rmse.item()  # Return RMSE value\n",
        "\n",
        "# Call the evaluate_model function\n",
        "test_rmse = evaluate_model(lstm, X_test_tensors_final, y_test_tensors)\n",
        "print(f\"Test RMSE: {test_rmse}\")\n"
      ],
      "metadata": {
        "colab": {
          "base_uri": "https://localhost:8080/"
        },
        "id": "jlgDpgSdzFNl",
        "outputId": "54aa401b-ecf5-4f5c-e59f-470f0d0ccd3e"
      },
      "execution_count": null,
      "outputs": [
        {
          "output_type": "stream",
          "name": "stdout",
          "text": [
            "Test RMSE: 0.022388571873307228\n"
          ]
        }
      ]
    },
    {
      "cell_type": "markdown",
      "source": [
        "## Test Loss"
      ],
      "metadata": {
        "id": "S1NgPjL5-3SX"
      }
    },
    {
      "cell_type": "code",
      "source": [
        "import torch\n",
        "\n",
        "# Function to evaluate the model\n",
        "def evaluate_model(model, X_test, y_test):\n",
        "    model.eval()  # Set the model to evaluation mode\n",
        "    with torch.no_grad():  # Turn off gradients for validation, saves memory and computations\n",
        "        predictions = model(X_test)\n",
        "        # Calculate the loss\n",
        "        loss_fn = torch.nn.MSELoss()\n",
        "        loss = loss_fn(predictions, y_test)\n",
        "    return loss.item()\n",
        "\n",
        "# Call the evaluate_model function\n",
        "test_loss = evaluate_model(lstm, X_test_tensors_final, y_test_tensors)\n",
        "print(f\"Test Loss: {test_loss}\")\n"
      ],
      "metadata": {
        "colab": {
          "base_uri": "https://localhost:8080/"
        },
        "id": "uwcFdd3OrlzL",
        "outputId": "4d511573-db74-439c-e401-b6927be5e69d"
      },
      "execution_count": null,
      "outputs": [
        {
          "output_type": "stream",
          "name": "stdout",
          "text": [
            "Test Loss: 0.0005012481124140322\n"
          ]
        }
      ]
    },
    {
      "cell_type": "markdown",
      "source": [
        "## MAE"
      ],
      "metadata": {
        "id": "f7B0lOtaDql2"
      }
    },
    {
      "cell_type": "code",
      "source": [
        "import torch\n",
        "from torch.nn.functional import l1_loss\n",
        "\n",
        "# 'predictions' and 'true_values' are PyTorch tensors of the same shape\n",
        "predictions = lstm(X_test_tensors_final)\n",
        "true_values = y_test_tensors\n",
        "\n",
        "# Calculate MAE\n",
        "mae = l1_loss(predictions, true_values, reduction='mean').item()\n",
        "print(f\"Mean Absolute Error: {mae}\")\n",
        "\n"
      ],
      "metadata": {
        "colab": {
          "base_uri": "https://localhost:8080/"
        },
        "id": "z_it8_hqDtqm",
        "outputId": "66e57e0c-e9e9-4562-a624-cb0334e8bd1e"
      },
      "execution_count": null,
      "outputs": [
        {
          "output_type": "stream",
          "name": "stdout",
          "text": [
            "Mean Absolute Error: 0.017877081409096718\n"
          ]
        }
      ]
    },
    {
      "cell_type": "markdown",
      "source": [
        "## R-squared"
      ],
      "metadata": {
        "id": "RNEHlrdqEZlh"
      }
    },
    {
      "cell_type": "code",
      "source": [
        "from sklearn.metrics import r2_score\n",
        "\n",
        "# lstm and X_test_tensors_final are already defined and lstm is trained\n",
        "lstm.eval()  # Set the model to evaluation mode\n",
        "y_pred = lstm(X_test_tensors_final)\n",
        "y_pred_numpy = y_pred.data.numpy()\n",
        "\n",
        "# y_test_tensors is the actual values tensor and mm is the MinMaxScaler\n",
        "y_test_numpy = y_test_tensors.data.numpy()\n",
        "\n",
        "# Inverse transform the scaled data to original scale\n",
        "y_pred_rescaled = mm.inverse_transform(y_pred_numpy)\n",
        "y_test_rescaled = mm.inverse_transform(y_test_numpy)\n",
        "\n",
        "# Calculate R-squared\n",
        "r_squared = r2_score(y_test_rescaled, y_pred_rescaled)\n",
        "print(f\"R-squared: {r_squared}\")\n",
        "\n",
        "\n"
      ],
      "metadata": {
        "colab": {
          "base_uri": "https://localhost:8080/"
        },
        "id": "aRVVjQ28V2aG",
        "outputId": "14e0561e-2bb0-4080-eccc-1a4d0f739356"
      },
      "execution_count": null,
      "outputs": [
        {
          "output_type": "stream",
          "name": "stdout",
          "text": [
            "R-squared: 0.902178113624038\n"
          ]
        }
      ]
    },
    {
      "cell_type": "markdown",
      "source": [
        "## MAPE"
      ],
      "metadata": {
        "id": "xwbKcA3OXcDM"
      }
    },
    {
      "cell_type": "code",
      "source": [
        "import torch\n",
        "\n",
        "# Function to calculate MAPE\n",
        "def mean_absolute_percentage_error(y_true, y_pred, eps=1e-8):\n",
        "    # Avoid division by zero\n",
        "    y_true, y_pred = torch.tensor(y_true), torch.tensor(y_pred)\n",
        "    mape = torch.mean(torch.abs((y_true - y_pred) / torch.clamp(y_true, min=eps)))\n",
        "    return mape\n",
        "\n",
        "# Function to evaluate the model\n",
        "def evaluate_model(model, X_test, y_test):\n",
        "    model.eval()  # Set the model to evaluation mode\n",
        "    with torch.no_grad():  # Turn off gradients for validation, saves memory and computations\n",
        "        predictions = model(X_test)\n",
        "        # Calculate the MAPE\n",
        "        mape = mean_absolute_percentage_error(y_test, predictions)\n",
        "    return mape.item()\n",
        "\n",
        "# Call the evaluate_model function\n",
        "test_mape = evaluate_model(lstm, X_test_tensors_final, y_test_tensors)\n",
        "print(f\"Test MAPE: {test_mape}\")\n"
      ],
      "metadata": {
        "colab": {
          "base_uri": "https://localhost:8080/"
        },
        "id": "4U7_LZ_SXfb7",
        "outputId": "5dcaa7d7-8fa7-445c-8380-0717e1bfca6f"
      },
      "execution_count": null,
      "outputs": [
        {
          "output_type": "stream",
          "name": "stdout",
          "text": [
            "Test MAPE: 0.019540103152394295\n"
          ]
        }
      ]
    }
  ]
}