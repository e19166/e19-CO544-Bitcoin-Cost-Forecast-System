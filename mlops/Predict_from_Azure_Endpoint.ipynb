{
  "nbformat": 4,
  "nbformat_minor": 0,
  "metadata": {
    "colab": {
      "provenance": []
    },
    "kernelspec": {
      "name": "python3",
      "display_name": "Python 3"
    },
    "language_info": {
      "name": "python"
    }
  },
  "cells": [
    {
      "cell_type": "code",
      "execution_count": 1,
      "metadata": {
        "colab": {
          "base_uri": "https://localhost:8080/"
        },
        "id": "vxNnXoGVKOvS",
        "outputId": "6119f9d0-4c81-45c1-deb2-3811bd49640d"
      },
      "outputs": [
        {
          "output_type": "stream",
          "name": "stdout",
          "text": [
            "{'result': 50123.104004}\n"
          ]
        }
      ],
      "source": [
        "import requests\n",
        "import json\n",
        "import numpy as np\n",
        "\n",
        "\n",
        "from sklearn.preprocessing import StandardScaler\n",
        "\n",
        "input_data = np.array([[465.864014, 48000.174011, 555.421997, 21056800],\n",
        "                          [456.859985, 456.859985, 50000.104004, 34483200]])\n",
        "input_data_list = input_data.tolist()\n",
        "data_dict = {\"data\": input_data_list}\n",
        "input_data_json = json.dumps(data_dict)\n",
        "\n",
        "\n",
        "scoring_uri = \"http://2b0a7e7f-eb60-4d34-b27b-ac902759994f.westus.azurecontainer.io/score\"\n",
        "\n",
        "# Define the content type\n",
        "headers = {\"Content-Type\": \"application/json\"}\n",
        "\n",
        "ss=StandardScaler()\n",
        "# Send an HTTP POST request to the endpoint\n",
        "response = requests.post(scoring_uri, data=input_data_json, headers=headers)\n",
        "\n",
        "# Check the response status code\n",
        "#if response.status_code == 200:\n",
        "    # Parse the JSON response\n",
        "result = json.loads(response.json())\n",
        "print(result)\n",
        "\n",
        "#     #Extract the prediction (result) from the response\n",
        "#     prediction = result[\"result\"][0]\n",
        "#     print(f\"Prediction: {prediction}\")\n",
        "# else:\n",
        "#     print(f\"Error: {response.text}\")"
      ]
    }
  ]
}