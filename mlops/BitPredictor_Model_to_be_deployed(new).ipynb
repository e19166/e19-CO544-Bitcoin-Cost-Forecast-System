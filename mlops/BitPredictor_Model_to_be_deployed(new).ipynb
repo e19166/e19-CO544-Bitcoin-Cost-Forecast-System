{
  "cells": [
    {
      "cell_type": "markdown",
      "metadata": {
        "id": "view-in-github"
      },
      "source": [
        "<a href=\"https://colab.research.google.com/github/cepdnaclk/e19-co544-Bitcoin-Cost-Forecast-System/blob/main/Models/Multivariate_LSTM_Model.ipynb\" target=\"_parent\"><img src=\"https://colab.research.google.com/assets/colab-badge.svg\" alt=\"Open In Colab\"/></a>"
      ]
    },
    {
      "cell_type": "markdown",
      "metadata": {
        "id": "0Eu-cIc3tKs2"
      },
      "source": [
        "# Import Data"
      ]
    },
    {
      "cell_type": "code",
      "execution_count": null,
      "metadata": {
        "colab": {
          "base_uri": "https://localhost:8080/",
          "height": 1000
        },
        "id": "K-8Lat50jUEH",
        "outputId": "74b4826f-2b36-4222-da07-6d0cf0d739cc"
      },
      "outputs": [
        {
          "name": "stdout",
          "output_type": "stream",
          "text": [
            "Collecting azureml-sdk\n",
            "  Downloading azureml_sdk-1.56.0-py3-none-any.whl (2.7 kB)\n",
            "Collecting azureml-core~=1.56.0 (from azureml-sdk)\n",
            "  Downloading azureml_core-1.56.0-py3-none-any.whl (3.3 MB)\n",
            "\u001b[2K     \u001b[90m━━━━━━━━━━━━━━━━━━━━━━━━━━━━━━━━━━━━━━━━\u001b[0m \u001b[32m3.3/3.3 MB\u001b[0m \u001b[31m2.0 MB/s\u001b[0m eta \u001b[36m0:00:00\u001b[0m\n",
            "\u001b[?25hCollecting azureml-dataset-runtime[fuse]~=1.56.0 (from azureml-sdk)\n",
            "  Downloading azureml_dataset_runtime-1.56.0-py3-none-any.whl (2.3 kB)\n",
            "Collecting azureml-train-core~=1.56.0 (from azureml-sdk)\n",
            "  Downloading azureml_train_core-1.56.0-py3-none-any.whl (8.6 MB)\n",
            "\u001b[2K     \u001b[90m━━━━━━━━━━━━━━━━━━━━━━━━━━━━━━━━━━━━━━━━\u001b[0m \u001b[32m8.6/8.6 MB\u001b[0m \u001b[31m2.4 MB/s\u001b[0m eta \u001b[36m0:00:00\u001b[0m\n",
            "\u001b[?25hCollecting azureml-train-automl-client~=1.56.0 (from azureml-sdk)\n",
            "  Downloading azureml_train_automl_client-1.56.0-py3-none-any.whl (137 kB)\n",
            "\u001b[2K     \u001b[90m━━━━━━━━━━━━━━━━━━━━━━━━━━━━━━━━━━━━━━━━\u001b[0m \u001b[32m137.7/137.7 kB\u001b[0m \u001b[31m2.9 MB/s\u001b[0m eta \u001b[36m0:00:00\u001b[0m\n",
            "\u001b[?25hCollecting azureml-pipeline~=1.56.0 (from azureml-sdk)\n",
            "  Downloading azureml_pipeline-1.56.0-py3-none-any.whl (2.4 kB)\n",
            "Requirement already satisfied: pytz in /usr/local/lib/python3.10/dist-packages (from azureml-core~=1.56.0->azureml-sdk) (2023.4)\n",
            "Collecting backports.tempfile (from azureml-core~=1.56.0->azureml-sdk)\n",
            "  Downloading backports.tempfile-1.0-py2.py3-none-any.whl (4.4 kB)\n",
            "Collecting pathspec<1.0.0 (from azureml-core~=1.56.0->azureml-sdk)\n",
            "  Downloading pathspec-0.12.1-py3-none-any.whl (31 kB)\n",
            "Requirement already satisfied: requests[socks]<3.0.0,>=2.19.1 in /usr/local/lib/python3.10/dist-packages (from azureml-core~=1.56.0->azureml-sdk) (2.31.0)\n",
            "Collecting msal<2.0.0,>=1.15.0 (from azureml-core~=1.56.0->azureml-sdk)\n",
            "  Downloading msal-1.29.0-py3-none-any.whl (110 kB)\n",
            "\u001b[2K     \u001b[90m━━━━━━━━━━━━━━━━━━━━━━━━━━━━━━━━━━━━━━━━\u001b[0m \u001b[32m110.9/110.9 kB\u001b[0m \u001b[31m2.5 MB/s\u001b[0m eta \u001b[36m0:00:00\u001b[0m\n",
            "\u001b[?25hCollecting msal-extensions<=2.0.0,>=0.3.0 (from azureml-core~=1.56.0->azureml-sdk)\n",
            "  Downloading msal_extensions-1.2.0-py3-none-any.whl (19 kB)\n",
            "Collecting knack<0.12.0 (from azureml-core~=1.56.0->azureml-sdk)\n",
            "  Downloading knack-0.11.0-py3-none-any.whl (60 kB)\n",
            "\u001b[2K     \u001b[90m━━━━━━━━━━━━━━━━━━━━━━━━━━━━━━━━━━━━━━━━\u001b[0m \u001b[32m60.8/60.8 kB\u001b[0m \u001b[31m2.5 MB/s\u001b[0m eta \u001b[36m0:00:00\u001b[0m\n",
            "\u001b[?25hCollecting azure-core<2.0.0 (from azureml-core~=1.56.0->azureml-sdk)\n",
            "  Downloading azure_core-1.30.2-py3-none-any.whl (194 kB)\n",
            "\u001b[2K     \u001b[90m━━━━━━━━━━━━━━━━━━━━━━━━━━━━━━━━━━━━━━━━\u001b[0m \u001b[32m194.3/194.3 kB\u001b[0m \u001b[31m3.1 MB/s\u001b[0m eta \u001b[36m0:00:00\u001b[0m\n",
            "\u001b[?25hCollecting pkginfo (from azureml-core~=1.56.0->azureml-sdk)\n",
            "  Downloading pkginfo-1.11.1-py3-none-any.whl (31 kB)\n",
            "Collecting argcomplete<4 (from azureml-core~=1.56.0->azureml-sdk)\n",
            "  Downloading argcomplete-3.4.0-py3-none-any.whl (42 kB)\n",
            "\u001b[2K     \u001b[90m━━━━━━━━━━━━━━━━━━━━━━━━━━━━━━━━━━━━━━━━\u001b[0m \u001b[32m42.6/42.6 kB\u001b[0m \u001b[31m2.9 MB/s\u001b[0m eta \u001b[36m0:00:00\u001b[0m\n",
            "\u001b[?25hCollecting humanfriendly<11.0,>=4.7 (from azureml-core~=1.56.0->azureml-sdk)\n",
            "  Downloading humanfriendly-10.0-py2.py3-none-any.whl (86 kB)\n",
            "\u001b[2K     \u001b[90m━━━━━━━━━━━━━━━━━━━━━━━━━━━━━━━━━━━━━━━━\u001b[0m \u001b[32m86.8/86.8 kB\u001b[0m \u001b[31m3.0 MB/s\u001b[0m eta \u001b[36m0:00:00\u001b[0m\n",
            "\u001b[?25hCollecting paramiko<4.0.0,>=2.0.8 (from azureml-core~=1.56.0->azureml-sdk)\n",
            "  Downloading paramiko-3.4.0-py3-none-any.whl (225 kB)\n",
            "\u001b[2K     \u001b[90m━━━━━━━━━━━━━━━━━━━━━━━━━━━━━━━━━━━━━━━━\u001b[0m \u001b[32m225.9/225.9 kB\u001b[0m \u001b[31m3.0 MB/s\u001b[0m eta \u001b[36m0:00:00\u001b[0m\n",
            "\u001b[?25hCollecting azure-mgmt-resource<=24.0.0,>=15.0.0 (from azureml-core~=1.56.0->azureml-sdk)\n",
            "  Downloading azure_mgmt_resource-23.1.1-py3-none-any.whl (2.6 MB)\n",
            "\u001b[2K     \u001b[90m━━━━━━━━━━━━━━━━━━━━━━━━━━━━━━━━━━━━━━━━\u001b[0m \u001b[32m2.6/2.6 MB\u001b[0m \u001b[31m2.9 MB/s\u001b[0m eta \u001b[36m0:00:00\u001b[0m\n",
            "\u001b[?25hCollecting azure-mgmt-containerregistry<11,>=8.2.0 (from azureml-core~=1.56.0->azureml-sdk)\n",
            "  Downloading azure_mgmt_containerregistry-10.3.0-py3-none-any.whl (2.3 MB)\n",
            "\u001b[2K     \u001b[90m━━━━━━━━━━━━━━━━━━━━━━━━━━━━━━━━━━━━━━━━\u001b[0m \u001b[32m2.3/2.3 MB\u001b[0m \u001b[31m3.3 MB/s\u001b[0m eta \u001b[36m0:00:00\u001b[0m\n",
            "\u001b[?25hCollecting azure-mgmt-storage<=22.0.0,>=16.0.0 (from azureml-core~=1.56.0->azureml-sdk)\n",
            "  Downloading azure_mgmt_storage-21.2.0-py3-none-any.whl (3.2 MB)\n",
            "\u001b[2K     \u001b[90m━━━━━━━━━━━━━━━━━━━━━━━━━━━━━━━━━━━━━━━━\u001b[0m \u001b[32m3.2/3.2 MB\u001b[0m \u001b[31m3.4 MB/s\u001b[0m eta \u001b[36m0:00:00\u001b[0m\n",
            "\u001b[?25hCollecting azure-mgmt-keyvault<11.0.0,>=0.40.0 (from azureml-core~=1.56.0->azureml-sdk)\n",
            "  Downloading azure_mgmt_keyvault-10.3.0-py3-none-any.whl (933 kB)\n",
            "\u001b[2K     \u001b[90m━━━━━━━━━━━━━━━━━━━━━━━━━━━━━━━━━━━━━━━━\u001b[0m \u001b[32m933.0/933.0 kB\u001b[0m \u001b[31m3.9 MB/s\u001b[0m eta \u001b[36m0:00:00\u001b[0m\n",
            "\u001b[?25hCollecting azure-mgmt-authorization<5,>=0.40.0 (from azureml-core~=1.56.0->azureml-sdk)\n",
            "  Downloading azure_mgmt_authorization-4.0.0-py3-none-any.whl (1.1 MB)\n",
            "\u001b[2K     \u001b[90m━━━━━━━━━━━━━━━━━━━━━━━━━━━━━━━━━━━━━━━━\u001b[0m \u001b[32m1.1/1.1 MB\u001b[0m \u001b[31m3.7 MB/s\u001b[0m eta \u001b[36m0:00:00\u001b[0m\n",
            "\u001b[?25hCollecting azure-mgmt-network<=26.0.0 (from azureml-core~=1.56.0->azureml-sdk)\n",
            "  Downloading azure_mgmt_network-25.4.0-py3-none-any.whl (614 kB)\n",
            "\u001b[2K     \u001b[90m━━━━━━━━━━━━━━━━━━━━━━━━━━━━━━━━━━━━━━━━\u001b[0m \u001b[32m614.8/614.8 kB\u001b[0m \u001b[31m3.8 MB/s\u001b[0m eta \u001b[36m0:00:00\u001b[0m\n",
            "\u001b[?25hCollecting azure-graphrbac<1.0.0,>=0.40.0 (from azureml-core~=1.56.0->azureml-sdk)\n",
            "  Downloading azure_graphrbac-0.61.1-py2.py3-none-any.whl (141 kB)\n",
            "\u001b[2K     \u001b[90m━━━━━━━━━━━━━━━━━━━━━━━━━━━━━━━━━━━━━━━━\u001b[0m \u001b[32m141.4/141.4 kB\u001b[0m \u001b[31m4.4 MB/s\u001b[0m eta \u001b[36m0:00:00\u001b[0m\n",
            "\u001b[?25hCollecting azure-common<2.0.0,>=1.1.12 (from azureml-core~=1.56.0->azureml-sdk)\n",
            "  Downloading azure_common-1.1.28-py2.py3-none-any.whl (14 kB)\n",
            "Collecting msrest<=0.7.1,>=0.5.1 (from azureml-core~=1.56.0->azureml-sdk)\n",
            "  Downloading msrest-0.7.1-py3-none-any.whl (85 kB)\n",
            "\u001b[2K     \u001b[90m━━━━━━━━━━━━━━━━━━━━━━━━━━━━━━━━━━━━━━━━\u001b[0m \u001b[32m85.4/85.4 kB\u001b[0m \u001b[31m4.1 MB/s\u001b[0m eta \u001b[36m0:00:00\u001b[0m\n",
            "\u001b[?25hCollecting msrestazure<=0.6.4,>=0.4.33 (from azureml-core~=1.56.0->azureml-sdk)\n",
            "  Downloading msrestazure-0.6.4-py2.py3-none-any.whl (40 kB)\n",
            "\u001b[2K     \u001b[90m━━━━━━━━━━━━━━━━━━━━━━━━━━━━━━━━━━━━━━━━\u001b[0m \u001b[32m40.5/40.5 kB\u001b[0m \u001b[31m2.2 MB/s\u001b[0m eta \u001b[36m0:00:00\u001b[0m\n",
            "\u001b[?25hRequirement already satisfied: urllib3<3.0.0,>1.26.17 in /usr/local/lib/python3.10/dist-packages (from azureml-core~=1.56.0->azureml-sdk) (2.0.7)\n",
            "Requirement already satisfied: packaging<=25.0,>=20.0 in /usr/local/lib/python3.10/dist-packages (from azureml-core~=1.56.0->azureml-sdk) (24.1)\n",
            "Requirement already satisfied: python-dateutil<3.0.0,>=2.7.3 in /usr/local/lib/python3.10/dist-packages (from azureml-core~=1.56.0->azureml-sdk) (2.8.2)\n",
            "Collecting ndg-httpsclient<=0.5.1 (from azureml-core~=1.56.0->azureml-sdk)\n",
            "  Downloading ndg_httpsclient-0.5.1-py3-none-any.whl (34 kB)\n",
            "Requirement already satisfied: SecretStorage<4.0.0 in /usr/lib/python3/dist-packages (from azureml-core~=1.56.0->azureml-sdk) (3.3.1)\n",
            "Requirement already satisfied: jsonpickle<4.0.0 in /usr/local/lib/python3.10/dist-packages (from azureml-core~=1.56.0->azureml-sdk) (3.2.1)\n",
            "Requirement already satisfied: contextlib2<22.0.0 in /usr/local/lib/python3.10/dist-packages (from azureml-core~=1.56.0->azureml-sdk) (21.6.0)\n",
            "Collecting docker<8.0.0 (from azureml-core~=1.56.0->azureml-sdk)\n",
            "  Downloading docker-7.1.0-py3-none-any.whl (147 kB)\n",
            "\u001b[2K     \u001b[90m━━━━━━━━━━━━━━━━━━━━━━━━━━━━━━━━━━━━━━━━\u001b[0m \u001b[32m147.8/147.8 kB\u001b[0m \u001b[31m3.0 MB/s\u001b[0m eta \u001b[36m0:00:00\u001b[0m\n",
            "\u001b[?25hRequirement already satisfied: PyJWT<3.0.0 in /usr/lib/python3/dist-packages (from azureml-core~=1.56.0->azureml-sdk) (2.3.0)\n",
            "Collecting adal<=1.2.7,>=1.2.0 (from azureml-core~=1.56.0->azureml-sdk)\n",
            "  Downloading adal-1.2.7-py2.py3-none-any.whl (55 kB)\n",
            "\u001b[2K     \u001b[90m━━━━━━━━━━━━━━━━━━━━━━━━━━━━━━━━━━━━━━━━\u001b[0m \u001b[32m55.5/55.5 kB\u001b[0m \u001b[31m2.5 MB/s\u001b[0m eta \u001b[36m0:00:00\u001b[0m\n",
            "\u001b[?25hRequirement already satisfied: pyopenssl<25.0.0 in /usr/local/lib/python3.10/dist-packages (from azureml-core~=1.56.0->azureml-sdk) (24.1.0)\n",
            "Collecting jmespath<2.0.0 (from azureml-core~=1.56.0->azureml-sdk)\n",
            "  Downloading jmespath-1.0.1-py3-none-any.whl (20 kB)\n",
            "Collecting azureml-dataprep<5.2.0a,>=5.1.0a (from azureml-dataset-runtime[fuse]~=1.56.0->azureml-sdk)\n",
            "  Downloading azureml_dataprep-5.1.6-py3-none-any.whl (252 kB)\n",
            "\u001b[2K     \u001b[90m━━━━━━━━━━━━━━━━━━━━━━━━━━━━━━━━━━━━━━━━\u001b[0m \u001b[32m252.4/252.4 kB\u001b[0m \u001b[31m3.9 MB/s\u001b[0m eta \u001b[36m0:00:00\u001b[0m\n",
            "\u001b[?25hRequirement already satisfied: pyarrow>=0.17.0 in /usr/local/lib/python3.10/dist-packages (from azureml-dataset-runtime[fuse]~=1.56.0->azureml-sdk) (14.0.2)\n",
            "Collecting numpy!=1.19.3,<1.24 (from azureml-dataset-runtime[fuse]~=1.56.0->azureml-sdk)\n",
            "  Downloading numpy-1.23.5-cp310-cp310-manylinux_2_17_x86_64.manylinux2014_x86_64.whl (17.1 MB)\n",
            "\u001b[2K     \u001b[90m━━━━━━━━━━━━━━━━━━━━━━━━━━━━━━━━━━━━━━━━\u001b[0m \u001b[32m17.1/17.1 MB\u001b[0m \u001b[31m4.0 MB/s\u001b[0m eta \u001b[36m0:00:00\u001b[0m\n",
            "\u001b[?25hCollecting fusepy<4.0.0,>=3.0.1 (from azureml-dataset-runtime[fuse]~=1.56.0->azureml-sdk)\n",
            "  Downloading fusepy-3.0.1.tar.gz (11 kB)\n",
            "  Preparing metadata (setup.py) ... \u001b[?25l\u001b[?25hdone\n",
            "Collecting azureml-pipeline-core~=1.56.0 (from azureml-pipeline~=1.56.0->azureml-sdk)\n",
            "  Downloading azureml_pipeline_core-1.56.0-py3-none-any.whl (313 kB)\n",
            "\u001b[2K     \u001b[90m━━━━━━━━━━━━━━━━━━━━━━━━━━━━━━━━━━━━━━━━\u001b[0m \u001b[32m313.7/313.7 kB\u001b[0m \u001b[31m3.3 MB/s\u001b[0m eta \u001b[36m0:00:00\u001b[0m\n",
            "\u001b[?25hCollecting azureml-pipeline-steps~=1.56.0 (from azureml-pipeline~=1.56.0->azureml-sdk)\n",
            "  Downloading azureml_pipeline_steps-1.56.0-py3-none-any.whl (69 kB)\n",
            "\u001b[2K     \u001b[90m━━━━━━━━━━━━━━━━━━━━━━━━━━━━━━━━━━━━━━━━\u001b[0m \u001b[32m69.6/69.6 kB\u001b[0m \u001b[31m3.3 MB/s\u001b[0m eta \u001b[36m0:00:00\u001b[0m\n",
            "\u001b[?25hCollecting azureml-automl-core~=1.56.0 (from azureml-train-automl-client~=1.56.0->azureml-sdk)\n",
            "  Downloading azureml_automl_core-1.56.0.post1-py3-none-any.whl (249 kB)\n",
            "\u001b[2K     \u001b[90m━━━━━━━━━━━━━━━━━━━━━━━━━━━━━━━━━━━━━━━━\u001b[0m \u001b[32m249.3/249.3 kB\u001b[0m \u001b[31m3.3 MB/s\u001b[0m eta \u001b[36m0:00:00\u001b[0m\n",
            "\u001b[?25hCollecting azureml-telemetry~=1.56.0 (from azureml-train-automl-client~=1.56.0->azureml-sdk)\n",
            "  Downloading azureml_telemetry-1.56.0-py3-none-any.whl (30 kB)\n",
            "Collecting azureml-train-restclients-hyperdrive~=1.56.0 (from azureml-train-core~=1.56.0->azureml-sdk)\n",
            "  Downloading azureml_train_restclients_hyperdrive-1.56.0-py3-none-any.whl (18 kB)\n",
            "Requirement already satisfied: cryptography>=1.1.0 in /usr/local/lib/python3.10/dist-packages (from adal<=1.2.7,>=1.2.0->azureml-core~=1.56.0->azureml-sdk) (42.0.8)\n",
            "Requirement already satisfied: six>=1.11.0 in /usr/local/lib/python3.10/dist-packages (from azure-core<2.0.0->azureml-core~=1.56.0->azureml-sdk) (1.16.0)\n",
            "Requirement already satisfied: typing-extensions>=4.6.0 in /usr/local/lib/python3.10/dist-packages (from azure-core<2.0.0->azureml-core~=1.56.0->azureml-sdk) (4.12.2)\n",
            "Collecting isodate<1.0.0,>=0.6.1 (from azure-mgmt-authorization<5,>=0.40.0->azureml-core~=1.56.0->azureml-sdk)\n",
            "  Downloading isodate-0.6.1-py2.py3-none-any.whl (41 kB)\n",
            "\u001b[2K     \u001b[90m━━━━━━━━━━━━━━━━━━━━━━━━━━━━━━━━━━━━━━━━\u001b[0m \u001b[32m41.7/41.7 kB\u001b[0m \u001b[31m2.8 MB/s\u001b[0m eta \u001b[36m0:00:00\u001b[0m\n",
            "\u001b[?25hCollecting azure-mgmt-core<2.0.0,>=1.3.2 (from azure-mgmt-authorization<5,>=0.40.0->azureml-core~=1.56.0->azureml-sdk)\n",
            "  Downloading azure_mgmt_core-1.4.0-py3-none-any.whl (27 kB)\n",
            "Collecting azureml-dataprep-native<42.0.0,>=41.0.0 (from azureml-dataprep<5.2.0a,>=5.1.0a->azureml-dataset-runtime[fuse]~=1.56.0->azureml-sdk)\n",
            "  Downloading azureml_dataprep_native-41.0.0-cp310-cp310-manylinux1_x86_64.whl (187 kB)\n",
            "\u001b[2K     \u001b[90m━━━━━━━━━━━━━━━━━━━━━━━━━━━━━━━━━━━━━━━━\u001b[0m \u001b[32m187.7/187.7 kB\u001b[0m \u001b[31m3.3 MB/s\u001b[0m eta \u001b[36m0:00:00\u001b[0m\n",
            "\u001b[?25hCollecting azureml-dataprep-rslex~=2.22.2dev0 (from azureml-dataprep<5.2.0a,>=5.1.0a->azureml-dataset-runtime[fuse]~=1.56.0->azureml-sdk)\n",
            "  Downloading azureml_dataprep_rslex-2.22.2-cp310-cp310-manylinux_2_17_x86_64.manylinux2014_x86_64.whl (24.7 MB)\n",
            "\u001b[2K     \u001b[90m━━━━━━━━━━━━━━━━━━━━━━━━━━━━━━━━━━━━━━━━\u001b[0m \u001b[32m24.7/24.7 MB\u001b[0m \u001b[31m4.2 MB/s\u001b[0m eta \u001b[36m0:00:00\u001b[0m\n",
            "\u001b[?25hRequirement already satisfied: cloudpickle<3.0.0,>=1.1.0 in /usr/local/lib/python3.10/dist-packages (from azureml-dataprep<5.2.0a,>=5.1.0a->azureml-dataset-runtime[fuse]~=1.56.0->azureml-sdk) (2.2.1)\n",
            "Collecting azure-identity>=1.7.0 (from azureml-dataprep<5.2.0a,>=5.1.0a->azureml-dataset-runtime[fuse]~=1.56.0->azureml-sdk)\n",
            "  Downloading azure_identity-1.17.1-py3-none-any.whl (173 kB)\n",
            "\u001b[2K     \u001b[90m━━━━━━━━━━━━━━━━━━━━━━━━━━━━━━━━━━━━━━━━\u001b[0m \u001b[32m173.2/173.2 kB\u001b[0m \u001b[31m5.8 MB/s\u001b[0m eta \u001b[36m0:00:00\u001b[0m\n",
            "\u001b[?25hRequirement already satisfied: jsonschema in /usr/local/lib/python3.10/dist-packages (from azureml-dataprep<5.2.0a,>=5.1.0a->azureml-dataset-runtime[fuse]~=1.56.0->azureml-sdk) (4.19.2)\n",
            "Requirement already satisfied: pyyaml<7.0.0,>=5.1.0 in /usr/local/lib/python3.10/dist-packages (from azureml-dataprep<5.2.0a,>=5.1.0a->azureml-dataset-runtime[fuse]~=1.56.0->azureml-sdk) (6.0.1)\n",
            "Collecting applicationinsights (from azureml-telemetry~=1.56.0->azureml-train-automl-client~=1.56.0->azureml-sdk)\n",
            "  Downloading applicationinsights-0.11.10-py2.py3-none-any.whl (55 kB)\n",
            "\u001b[2K     \u001b[90m━━━━━━━━━━━━━━━━━━━━━━━━━━━━━━━━━━━━━━━━\u001b[0m \u001b[32m55.1/55.1 kB\u001b[0m \u001b[31m4.5 MB/s\u001b[0m eta \u001b[36m0:00:00\u001b[0m\n",
            "\u001b[?25hRequirement already satisfied: pygments in /usr/local/lib/python3.10/dist-packages (from knack<0.12.0->azureml-core~=1.56.0->azureml-sdk) (2.16.1)\n",
            "Requirement already satisfied: tabulate in /usr/local/lib/python3.10/dist-packages (from knack<0.12.0->azureml-core~=1.56.0->azureml-sdk) (0.9.0)\n",
            "Collecting portalocker<3,>=1.4 (from msal-extensions<=2.0.0,>=0.3.0->azureml-core~=1.56.0->azureml-sdk)\n",
            "  Downloading portalocker-2.10.0-py3-none-any.whl (18 kB)\n",
            "Requirement already satisfied: certifi>=2017.4.17 in /usr/local/lib/python3.10/dist-packages (from msrest<=0.7.1,>=0.5.1->azureml-core~=1.56.0->azureml-sdk) (2024.6.2)\n",
            "Requirement already satisfied: requests-oauthlib>=0.5.0 in /usr/local/lib/python3.10/dist-packages (from msrest<=0.7.1,>=0.5.1->azureml-core~=1.56.0->azureml-sdk) (1.3.1)\n",
            "Requirement already satisfied: pyasn1>=0.1.1 in /usr/local/lib/python3.10/dist-packages (from ndg-httpsclient<=0.5.1->azureml-core~=1.56.0->azureml-sdk) (0.6.0)\n",
            "Collecting bcrypt>=3.2 (from paramiko<4.0.0,>=2.0.8->azureml-core~=1.56.0->azureml-sdk)\n",
            "  Downloading bcrypt-4.1.3-cp39-abi3-manylinux_2_28_x86_64.whl (283 kB)\n",
            "\u001b[2K     \u001b[90m━━━━━━━━━━━━━━━━━━━━━━━━━━━━━━━━━━━━━━━━\u001b[0m \u001b[32m283.7/283.7 kB\u001b[0m \u001b[31m5.0 MB/s\u001b[0m eta \u001b[36m0:00:00\u001b[0m\n",
            "\u001b[?25hCollecting pynacl>=1.5 (from paramiko<4.0.0,>=2.0.8->azureml-core~=1.56.0->azureml-sdk)\n",
            "  Downloading PyNaCl-1.5.0-cp36-abi3-manylinux_2_17_x86_64.manylinux2014_x86_64.manylinux_2_24_x86_64.whl (856 kB)\n",
            "\u001b[2K     \u001b[90m━━━━━━━━━━━━━━━━━━━━━━━━━━━━━━━━━━━━━━━━\u001b[0m \u001b[32m856.7/856.7 kB\u001b[0m \u001b[31m4.9 MB/s\u001b[0m eta \u001b[36m0:00:00\u001b[0m\n",
            "\u001b[?25hRequirement already satisfied: charset-normalizer<4,>=2 in /usr/local/lib/python3.10/dist-packages (from requests[socks]<3.0.0,>=2.19.1->azureml-core~=1.56.0->azureml-sdk) (3.3.2)\n",
            "Requirement already satisfied: idna<4,>=2.5 in /usr/local/lib/python3.10/dist-packages (from requests[socks]<3.0.0,>=2.19.1->azureml-core~=1.56.0->azureml-sdk) (3.7)\n",
            "Requirement already satisfied: PySocks!=1.5.7,>=1.5.6 in /usr/local/lib/python3.10/dist-packages (from requests[socks]<3.0.0,>=2.19.1->azureml-core~=1.56.0->azureml-sdk) (1.7.1)\n",
            "Collecting backports.weakref (from backports.tempfile->azureml-core~=1.56.0->azureml-sdk)\n",
            "  Downloading backports.weakref-1.0.post1-py2.py3-none-any.whl (5.2 kB)\n",
            "Requirement already satisfied: cffi>=1.12 in /usr/local/lib/python3.10/dist-packages (from cryptography>=1.1.0->adal<=1.2.7,>=1.2.0->azureml-core~=1.56.0->azureml-sdk) (1.16.0)\n",
            "Requirement already satisfied: oauthlib>=3.0.0 in /usr/local/lib/python3.10/dist-packages (from requests-oauthlib>=0.5.0->msrest<=0.7.1,>=0.5.1->azureml-core~=1.56.0->azureml-sdk) (3.2.2)\n",
            "Requirement already satisfied: attrs>=22.2.0 in /usr/local/lib/python3.10/dist-packages (from jsonschema->azureml-dataprep<5.2.0a,>=5.1.0a->azureml-dataset-runtime[fuse]~=1.56.0->azureml-sdk) (23.2.0)\n",
            "Requirement already satisfied: jsonschema-specifications>=2023.03.6 in /usr/local/lib/python3.10/dist-packages (from jsonschema->azureml-dataprep<5.2.0a,>=5.1.0a->azureml-dataset-runtime[fuse]~=1.56.0->azureml-sdk) (2023.12.1)\n",
            "Requirement already satisfied: referencing>=0.28.4 in /usr/local/lib/python3.10/dist-packages (from jsonschema->azureml-dataprep<5.2.0a,>=5.1.0a->azureml-dataset-runtime[fuse]~=1.56.0->azureml-sdk) (0.35.1)\n",
            "Requirement already satisfied: rpds-py>=0.7.1 in /usr/local/lib/python3.10/dist-packages (from jsonschema->azureml-dataprep<5.2.0a,>=5.1.0a->azureml-dataset-runtime[fuse]~=1.56.0->azureml-sdk) (0.18.1)\n",
            "Requirement already satisfied: pycparser in /usr/local/lib/python3.10/dist-packages (from cffi>=1.12->cryptography>=1.1.0->adal<=1.2.7,>=1.2.0->azureml-core~=1.56.0->azureml-sdk) (2.22)\n",
            "Building wheels for collected packages: fusepy\n",
            "  Building wheel for fusepy (setup.py) ... \u001b[?25l\u001b[?25hdone\n",
            "  Created wheel for fusepy: filename=fusepy-3.0.1-py3-none-any.whl size=10487 sha256=56385e372efe59dd96ec7d94f7cace616332af255cac49adea08c5cb93577f43\n",
            "  Stored in directory: /root/.cache/pip/wheels/c0/18/f6/f0d6be9d0435e2677ce5cc758e91da50053dce456a346f08c5\n",
            "Successfully built fusepy\n",
            "Installing collected packages: fusepy, backports.weakref, azureml-dataprep-rslex, azureml-dataprep-native, azure-common, applicationinsights, portalocker, pkginfo, pathspec, numpy, jmespath, isodate, humanfriendly, bcrypt, backports.tempfile, argcomplete, pynacl, knack, docker, azure-core, paramiko, msrest, azure-mgmt-core, adal, ndg-httpsclient, msrestazure, msal, azure-mgmt-storage, azure-mgmt-resource, azure-mgmt-network, azure-mgmt-keyvault, azure-mgmt-containerregistry, azure-mgmt-authorization, msal-extensions, azureml-train-restclients-hyperdrive, azure-graphrbac, azureml-core, azure-identity, azureml-telemetry, azureml-pipeline-core, azureml-dataprep, azureml-train-core, azureml-dataset-runtime, azureml-automl-core, azureml-train-automl-client, azureml-pipeline-steps, azureml-pipeline, azureml-sdk\n",
            "  Attempting uninstall: numpy\n",
            "    Found existing installation: numpy 1.25.2\n",
            "    Uninstalling numpy-1.25.2:\n",
            "      Successfully uninstalled numpy-1.25.2\n",
            "\u001b[31mERROR: pip's dependency resolver does not currently take into account all the packages that are installed. This behaviour is the source of the following dependency conflicts.\n",
            "chex 0.1.86 requires numpy>=1.24.1, but you have numpy 1.23.5 which is incompatible.\n",
            "pandas-stubs 2.0.3.230814 requires numpy>=1.25.0; python_version >= \"3.9\", but you have numpy 1.23.5 which is incompatible.\u001b[0m\u001b[31m\n",
            "\u001b[0mSuccessfully installed adal-1.2.7 applicationinsights-0.11.10 argcomplete-3.4.0 azure-common-1.1.28 azure-core-1.30.2 azure-graphrbac-0.61.1 azure-identity-1.17.1 azure-mgmt-authorization-4.0.0 azure-mgmt-containerregistry-10.3.0 azure-mgmt-core-1.4.0 azure-mgmt-keyvault-10.3.0 azure-mgmt-network-25.4.0 azure-mgmt-resource-23.1.1 azure-mgmt-storage-21.2.0 azureml-automl-core-1.56.0.post1 azureml-core-1.56.0 azureml-dataprep-5.1.6 azureml-dataprep-native-41.0.0 azureml-dataprep-rslex-2.22.2 azureml-dataset-runtime-1.56.0 azureml-pipeline-1.56.0 azureml-pipeline-core-1.56.0 azureml-pipeline-steps-1.56.0 azureml-sdk-1.56.0 azureml-telemetry-1.56.0 azureml-train-automl-client-1.56.0 azureml-train-core-1.56.0 azureml-train-restclients-hyperdrive-1.56.0 backports.tempfile-1.0 backports.weakref-1.0.post1 bcrypt-4.1.3 docker-7.1.0 fusepy-3.0.1 humanfriendly-10.0 isodate-0.6.1 jmespath-1.0.1 knack-0.11.0 msal-1.29.0 msal-extensions-1.2.0 msrest-0.7.1 msrestazure-0.6.4 ndg-httpsclient-0.5.1 numpy-1.23.5 paramiko-3.4.0 pathspec-0.12.1 pkginfo-1.11.1 portalocker-2.10.0 pynacl-1.5.0\n"
          ]
        },
        {
          "data": {
            "application/vnd.colab-display-data+json": {
              "id": "fd8c83f63092495d820cd0d777360160",
              "pip_warning": {
                "packages": [
                  "numpy"
                ]
              }
            }
          },
          "metadata": {},
          "output_type": "display_data"
        }
      ],
      "source": [
        "!pip install azureml-sdk"
      ]
    },
    {
      "cell_type": "code",
      "execution_count": null,
      "metadata": {
        "colab": {
          "base_uri": "https://localhost:8080/"
        },
        "id": "nlXU7vyBtDlM",
        "outputId": "4611628c-433a-4c7a-ada0-3ae98b51aab8"
      },
      "outputs": [
        {
          "name": "stdout",
          "output_type": "stream",
          "text": [
            "Date of pipeline ML code run is:  2024-06-24\n",
            "setting up the AML workspace\n",
            "Performing interactive authentication. Please follow the instructions on the terminal.\n"
          ]
        },
        {
          "name": "stderr",
          "output_type": "stream",
          "text": [
            "WARNING:azureml._vendor.azure_cli_core.auth.identity:To sign in, use a web browser to open the page https://microsoft.com/devicelogin and enter the code ES4BJCP2V to authenticate.\n"
          ]
        },
        {
          "name": "stdout",
          "output_type": "stream",
          "text": [
            "Interactive authentication successfully completed.\n",
            "Bit_Predictor_mlops\n",
            "Machine_Learning\n",
            "westus\n",
            "43a74c73-f7cb-4ce8-b74c-77b08ff7bf47\n",
            "Setting up the blobstore for reading the input files\n",
            "{'infer_column_types': 'False', 'activity': 'to_pandas_dataframe'}\n",
            "{'infer_column_types': 'False', 'activity': 'to_pandas_dataframe', 'activityApp': 'TabularDataset'}\n",
            "                                    Date        Open        High         Low  \\\n",
            "1970-01-01 00:00:00.000000000 2014-09-17  465.864014  468.174011  452.421997   \n",
            "1970-01-01 00:00:00.000000001 2014-09-18  456.859985  456.859985  413.104004   \n",
            "1970-01-01 00:00:00.000000002 2014-09-19  424.102997  427.834991  384.532013   \n",
            "1970-01-01 00:00:00.000000003 2014-09-20  394.673004  423.295990  389.882996   \n",
            "1970-01-01 00:00:00.000000004 2014-09-21  408.084991  412.425995  393.181000   \n",
            "\n",
            "                                    Close   Adj Close    Volume  \n",
            "1970-01-01 00:00:00.000000000  457.334015  457.334015  21056800  \n",
            "1970-01-01 00:00:00.000000001  424.440002  424.440002  34483200  \n",
            "1970-01-01 00:00:00.000000002  394.795990  394.795990  37919700  \n",
            "1970-01-01 00:00:00.000000003  408.903992  408.903992  36863600  \n",
            "1970-01-01 00:00:00.000000004  398.821014  398.821014  26580100  \n"
          ]
        }
      ],
      "source": [
        "#!pip install azureml-sdk\n",
        "import os\n",
        "from datetime import date\n",
        "from azureml.core import Workspace, Dataset, Datastore, Run, Model\n",
        "import numpy as np\n",
        "import pandas as pd\n",
        "\n",
        "print(\"Date of pipeline ML code run is: \", date.today())\n",
        "run = Run.get_context()\n",
        "\n",
        "print(\"setting up the AML workspace\")\n",
        "ws = Workspace(subscription_id='', resource_group='', workspace_name='')\n",
        "print(ws.name, ws.resource_group, ws.location, ws.subscription_id, sep = '\\n')\n",
        "\n",
        "blob_datastore_name = ''\n",
        "container_name = os.getenv(\"BLOB_CONTAINER\", \"\")\n",
        "account_name = os.getenv(\"BLOB_ACCOUNTNAME\", \"\")\n",
        "account_key = os.getenv(\"BLOB_ACCOUNT_KEY\", \"\")\n",
        "\n",
        "datastore = Datastore.get(ws, '')\n",
        "print(\"Setting up the blobstore for reading the input files\")\n",
        "\n",
        "run = Run.get_context()\n",
        "hist = Dataset.Tabular.from_delimited_files(path= [(datastore, \"BTC-USD.csv\")]).to_pandas_dataframe()\n",
        "# Making the 'Date' as the index\n",
        "hist.index = pd.to_datetime(hist.index)\n",
        "\n",
        "# Drop the \"Dividends\" column and \"Stock Splits\" column\n",
        "#hist.drop(columns = ['Dividends', 'Stock Splits'], inplace = True)\n",
        "\n",
        "# Print the data\n",
        "print(hist.head())"
      ]
    },
    {
      "cell_type": "markdown",
      "metadata": {
        "id": "ngTHFwGRO4bs"
      },
      "source": [
        "# Set Inputs and Outputs"
      ]
    },
    {
      "cell_type": "code",
      "execution_count": null,
      "metadata": {
        "colab": {
          "base_uri": "https://localhost:8080/"
        },
        "id": "kH9k_HqcO9yv",
        "outputId": "34e22490-f3c1-4e97-d26e-e57222d0a406"
      },
      "outputs": [
        {
          "data": {
            "text/plain": [
              "((3566, 4), (3566,))"
            ]
          },
          "execution_count": 2,
          "metadata": {},
          "output_type": "execute_result"
        }
      ],
      "source": [
        "X, y = hist.drop(columns = ['Close', 'Date', 'Adj Close']), hist.Close.values\n",
        "X.shape, y.shape"
      ]
    },
    {
      "cell_type": "markdown",
      "metadata": {
        "id": "CnhD38aQQKq3"
      },
      "source": [
        "## Standardize Features"
      ]
    },
    {
      "cell_type": "code",
      "execution_count": null,
      "metadata": {
        "colab": {
          "base_uri": "https://localhost:8080/"
        },
        "id": "u5nkD1Y9QQvr",
        "outputId": "33e6aaea-0b2b-4856-d4ee-86eba067a374"
      },
      "outputs": [
        {
          "data": {
            "text/plain": [
              "['minmax_scaler.pkl']"
            ]
          },
          "execution_count": 3,
          "metadata": {},
          "output_type": "execute_result"
        }
      ],
      "source": [
        "# Import the StandardScaler and MinMaxScaler classes from the sklearn.preprocessing module\n",
        "from sklearn.preprocessing import StandardScaler, MinMaxScaler\n",
        "import joblib\n",
        "\n",
        "# Create an instance of thee MinMaxScaler, which scales the data to a specified range (default is 0 to 1)\n",
        "mm = MinMaxScaler()\n",
        "\n",
        "# Creating an instance of the standardScaler, which standardizes the data by removing the mean and scaling to unit variance\n",
        "ss = StandardScaler()\n",
        "\n",
        "# Applying the StandardScaler to the feature matrix X to standardize the features\n",
        "# fit_transform() first fits the scaler to the data (calculating the mean and standard deviation) and then transforms the data\n",
        "X_trans = ss.fit_transform(X)\n",
        "\n",
        "# Reshaping the target variable y to be a 2D array with one column, as required by the MinMaxScaler\n",
        "# fit_transform() first fits the scaler to the data (calculating the min and max values) and then transforms the data\n",
        "y_trans = mm.fit_transform(y.reshape(-1, 1))\n",
        "\n",
        "standard_scaler_path = \"standard_scaler.pkl\"\n",
        "minmax_scaler_path = \"minmax_scaler.pkl\"\n",
        "\n",
        "# Save StandardScaler (ss)\n",
        "joblib.dump(ss, standard_scaler_path)\n",
        "\n",
        "# Save MinMaxScaler (mm)\n",
        "joblib.dump(mm, minmax_scaler_path)"
      ]
    },
    {
      "cell_type": "markdown",
      "metadata": {
        "id": "6eFRNszUYFtV"
      },
      "source": [
        "## Split a multivariate sequence past, future samples (X abd y)"
      ]
    },
    {
      "cell_type": "code",
      "execution_count": null,
      "metadata": {
        "colab": {
          "base_uri": "https://localhost:8080/"
        },
        "id": "E14kM5v_YNoC",
        "outputId": "a31fa453-aa3a-44c6-d0ce-f716fe093a7b"
      },
      "outputs": [
        {
          "name": "stdout",
          "output_type": "stream",
          "text": [
            "(3565, 2, 4) (3565, 1)\n"
          ]
        }
      ],
      "source": [
        "import numpy as np\n",
        "\n",
        "# split a multivariate sequence past, future samples (X and y)\n",
        "def split_sequences(input_sequences, output_sequence, n_steps_in, n_steps_out):\n",
        "\n",
        "    X, y = list(), list() # instantiate X and y\n",
        "\n",
        "    for i in range(len(input_sequences)):\n",
        "\n",
        "        # find the end of the input, output sequence\n",
        "        end_ix = i + n_steps_in\n",
        "        out_end_ix = end_ix + n_steps_out - 1\n",
        "\n",
        "        # check if we are beyond the dataset\n",
        "        if out_end_ix > len(input_sequences): break\n",
        "\n",
        "        # gather input and output of the pattern\n",
        "        seq_x, seq_y = input_sequences[i:end_ix], output_sequence[end_ix-1:out_end_ix, -1]\n",
        "        X.append(seq_x), y.append(seq_y)\n",
        "\n",
        "    return np.array(X), np.array(y)\n",
        "\n",
        "X_ss, y_mm = split_sequences(X_trans, y_trans, 2, 1)\n",
        "print(X_ss.shape, y_mm.shape)"
      ]
    },
    {
      "cell_type": "markdown",
      "metadata": {
        "id": "3H5EB5XLaCW9"
      },
      "source": [
        "## Check the y_mm sample"
      ]
    },
    {
      "cell_type": "code",
      "execution_count": null,
      "metadata": {
        "colab": {
          "base_uri": "https://localhost:8080/"
        },
        "id": "FHCCou3QaUZ7",
        "outputId": "39f6e5a3-bcd2-4fe0-877b-a4a88fe03374"
      },
      "outputs": [
        {
          "name": "stdout",
          "output_type": "stream",
          "text": [
            "y_mm[0]: [0.00337886]\n",
            "y_trans[99:100].squeeze(1): [0.00193271]\n"
          ]
        },
        {
          "data": {
            "text/plain": [
              "array([0.00337886])"
            ]
          },
          "execution_count": 5,
          "metadata": {},
          "output_type": "execute_result"
        }
      ],
      "source": [
        "print(\"y_mm[0]:\", y_mm[0])\n",
        "print(\"y_trans[99:100].squeeze(1):\", y_trans[99:100].squeeze(1))\n",
        "\n",
        "assert y_mm[0].all() == y_trans[99:100].squeeze(1).all()\n",
        "\n",
        "y_mm[0]"
      ]
    },
    {
      "cell_type": "code",
      "execution_count": null,
      "metadata": {
        "colab": {
          "base_uri": "https://localhost:8080/"
        },
        "id": "aPWIL8r0bl_U",
        "outputId": "0c003a4b-66b8-4af0-f39d-8a72e6975e8b"
      },
      "outputs": [
        {
          "data": {
            "text/plain": [
              "array([0.00193271])"
            ]
          },
          "execution_count": 6,
          "metadata": {},
          "output_type": "execute_result"
        }
      ],
      "source": [
        "y_trans[99:100].squeeze(1)"
      ]
    },
    {
      "cell_type": "markdown",
      "metadata": {
        "id": "9dobE9Epb86R"
      },
      "source": [
        "## Split Training & Test Sets"
      ]
    },
    {
      "cell_type": "code",
      "execution_count": null,
      "metadata": {
        "colab": {
          "base_uri": "https://localhost:8080/"
        },
        "id": "1n5K3gJScD4y",
        "outputId": "d3ba1717-3644-4fd8-babd-4c861667e47c"
      },
      "outputs": [
        {
          "name": "stdout",
          "output_type": "stream",
          "text": [
            "Training Shape: (3464, 2, 4) (3464, 1)\n",
            "Testing Shape: (101, 2, 4) (101, 1)\n"
          ]
        }
      ],
      "source": [
        "total_samples = len(X)\n",
        "train_test_cutoff = round(0.90 * total_samples)\n",
        "\n",
        "X_train = X_ss[:-101]\n",
        "X_test = X_ss[-101:]\n",
        "\n",
        "y_train = y_mm[:-101]\n",
        "y_test = y_mm[-101:]\n",
        "\n",
        "print(\"Training Shape:\", X_train.shape, y_train.shape)\n",
        "print(\"Testing Shape:\", X_test.shape, y_test.shape)"
      ]
    },
    {
      "cell_type": "markdown",
      "metadata": {
        "id": "V_Uw5iQMui3v"
      },
      "source": [
        "## Convert Data Into Tensors"
      ]
    },
    {
      "cell_type": "code",
      "execution_count": null,
      "metadata": {
        "id": "efuy9zaQutfZ"
      },
      "outputs": [],
      "source": [
        "import torch\n",
        "\n",
        "# convert to pytorch tensors\n",
        "X_train_tensors = torch.Tensor(X_train).requires_grad_(True)\n",
        "X_test_tensors = torch.Tensor(X_test).requires_grad_(True)\n",
        "\n",
        "y_train_tensors = torch.Tensor(y_train).requires_grad_(True)\n",
        "y_test_tensors = torch.Tensor(y_test).requires_grad_(True)\n"
      ]
    },
    {
      "cell_type": "markdown",
      "metadata": {
        "id": "a-TGG9OCzOAL"
      },
      "source": [
        "## Reshaping to rows, timestamps, features"
      ]
    },
    {
      "cell_type": "code",
      "execution_count": null,
      "metadata": {
        "colab": {
          "base_uri": "https://localhost:8080/"
        },
        "id": "skTdXZlwzWyU",
        "outputId": "799d76e6-81d3-4395-ff7c-cceee03f470f"
      },
      "outputs": [
        {
          "name": "stdout",
          "output_type": "stream",
          "text": [
            "Training Shape: torch.Size([3464, 2, 4]) torch.Size([3464, 1])\n",
            "Testing Shape: torch.Size([101, 2, 4]) torch.Size([101, 1])\n"
          ]
        }
      ],
      "source": [
        "# reshaping to rows, timestamps, features\n",
        "X_train_tensors_final = torch.reshape(X_train_tensors,\n",
        "                                      (X_train_tensors.shape[0], 2,\n",
        "                                       X_train_tensors.shape[2]))\n",
        "X_test_tensors_final = torch.reshape(X_test_tensors,\n",
        "                                     (X_test_tensors.shape[0], 2,\n",
        "                                      X_test_tensors.shape[2]))\n",
        "\n",
        "print(\"Training Shape:\", X_train_tensors_final.shape, y_train_tensors.shape)\n",
        "print(\"Testing Shape:\", X_test_tensors_final.shape, y_test_tensors.shape)"
      ]
    },
    {
      "cell_type": "code",
      "execution_count": null,
      "metadata": {
        "colab": {
          "base_uri": "https://localhost:8080/",
          "height": 244
        },
        "id": "-67vt9hOz7RK",
        "outputId": "a036d607-4648-4029-fd62-23e8ab84c030"
      },
      "outputs": [
        {
          "data": {
            "application/vnd.google.colaboratory.intrinsic+json": {
              "summary": "{\n  \"name\": \"X\",\n  \"rows\": 4,\n  \"fields\": [\n    {\n      \"column\": \"Open\",\n      \"properties\": {\n        \"dtype\": \"number\",\n        \"std\": 1142.7803902731087,\n        \"min\": 39936.816406,\n        \"max\": 42126.125,\n        \"num_unique_values\": 4,\n        \"samples\": [\n          39936.816406,\n          42126.125,\n          40075.550781\n        ],\n        \"semantic_type\": \"\",\n        \"description\": \"\"\n      }\n    },\n    {\n      \"column\": \"High\",\n      \"properties\": {\n        \"dtype\": \"number\",\n        \"std\": 1109.150178149163,\n        \"min\": 40254.480469,\n        \"max\": 42797.175781,\n        \"num_unique_values\": 4,\n        \"samples\": [\n          42209.386719,\n          42797.175781,\n          40254.480469\n        ],\n        \"semantic_type\": \"\",\n        \"description\": \"\"\n      }\n    },\n    {\n      \"column\": \"Low\",\n      \"properties\": {\n        \"dtype\": \"number\",\n        \"std\": 1095.8924945219874,\n        \"min\": 39545.664063,\n        \"max\": 41696.910156,\n        \"num_unique_values\": 4,\n        \"samples\": [\n          39825.691406,\n          41696.910156,\n          39545.664063\n        ],\n        \"semantic_type\": \"\",\n        \"description\": \"\"\n      }\n    },\n    {\n      \"column\": \"Volume\",\n      \"properties\": {\n        \"dtype\": \"number\",\n        \"std\": 5845178987,\n        \"min\": 11422941934,\n        \"max\": 25598119893,\n        \"num_unique_values\": 4,\n        \"samples\": [\n          25598119893,\n          16858971687,\n          18491782013\n        ],\n        \"semantic_type\": \"\",\n        \"description\": \"\"\n      }\n    }\n  ]\n}",
              "type": "dataframe"
            },
            "text/html": [
              "\n",
              "  <div id=\"df-a47961a3-49b3-4bc9-a48a-dcbc0033b456\" class=\"colab-df-container\">\n",
              "    <div>\n",
              "<style scoped>\n",
              "    .dataframe tbody tr th:only-of-type {\n",
              "        vertical-align: middle;\n",
              "    }\n",
              "\n",
              "    .dataframe tbody tr th {\n",
              "        vertical-align: top;\n",
              "    }\n",
              "\n",
              "    .dataframe thead th {\n",
              "        text-align: right;\n",
              "    }\n",
              "</style>\n",
              "<table border=\"1\" class=\"dataframe\">\n",
              "  <thead>\n",
              "    <tr style=\"text-align: right;\">\n",
              "      <th></th>\n",
              "      <th>Open</th>\n",
              "      <th>High</th>\n",
              "      <th>Low</th>\n",
              "      <th>Volume</th>\n",
              "    </tr>\n",
              "  </thead>\n",
              "  <tbody>\n",
              "    <tr>\n",
              "      <th>1970-01-01 00:00:00.000003417</th>\n",
              "      <td>40075.550781</td>\n",
              "      <td>40254.480469</td>\n",
              "      <td>39545.664063</td>\n",
              "      <td>18491782013</td>\n",
              "    </tr>\n",
              "    <tr>\n",
              "      <th>1970-01-01 00:00:00.000003418</th>\n",
              "      <td>39936.816406</td>\n",
              "      <td>42209.386719</td>\n",
              "      <td>39825.691406</td>\n",
              "      <td>25598119893</td>\n",
              "    </tr>\n",
              "    <tr>\n",
              "      <th>1970-01-01 00:00:00.000003419</th>\n",
              "      <td>41815.625000</td>\n",
              "      <td>42195.632813</td>\n",
              "      <td>41431.281250</td>\n",
              "      <td>11422941934</td>\n",
              "    </tr>\n",
              "    <tr>\n",
              "      <th>1970-01-01 00:00:00.000003420</th>\n",
              "      <td>42126.125000</td>\n",
              "      <td>42797.175781</td>\n",
              "      <td>41696.910156</td>\n",
              "      <td>16858971687</td>\n",
              "    </tr>\n",
              "  </tbody>\n",
              "</table>\n",
              "</div>\n",
              "    <div class=\"colab-df-buttons\">\n",
              "\n",
              "  <div class=\"colab-df-container\">\n",
              "    <button class=\"colab-df-convert\" onclick=\"convertToInteractive('df-a47961a3-49b3-4bc9-a48a-dcbc0033b456')\"\n",
              "            title=\"Convert this dataframe to an interactive table.\"\n",
              "            style=\"display:none;\">\n",
              "\n",
              "  <svg xmlns=\"http://www.w3.org/2000/svg\" height=\"24px\" viewBox=\"0 -960 960 960\">\n",
              "    <path d=\"M120-120v-720h720v720H120Zm60-500h600v-160H180v160Zm220 220h160v-160H400v160Zm0 220h160v-160H400v160ZM180-400h160v-160H180v160Zm440 0h160v-160H620v160ZM180-180h160v-160H180v160Zm440 0h160v-160H620v160Z\"/>\n",
              "  </svg>\n",
              "    </button>\n",
              "\n",
              "  <style>\n",
              "    .colab-df-container {\n",
              "      display:flex;\n",
              "      gap: 12px;\n",
              "    }\n",
              "\n",
              "    .colab-df-convert {\n",
              "      background-color: #E8F0FE;\n",
              "      border: none;\n",
              "      border-radius: 50%;\n",
              "      cursor: pointer;\n",
              "      display: none;\n",
              "      fill: #1967D2;\n",
              "      height: 32px;\n",
              "      padding: 0 0 0 0;\n",
              "      width: 32px;\n",
              "    }\n",
              "\n",
              "    .colab-df-convert:hover {\n",
              "      background-color: #E2EBFA;\n",
              "      box-shadow: 0px 1px 2px rgba(60, 64, 67, 0.3), 0px 1px 3px 1px rgba(60, 64, 67, 0.15);\n",
              "      fill: #174EA6;\n",
              "    }\n",
              "\n",
              "    .colab-df-buttons div {\n",
              "      margin-bottom: 4px;\n",
              "    }\n",
              "\n",
              "    [theme=dark] .colab-df-convert {\n",
              "      background-color: #3B4455;\n",
              "      fill: #D2E3FC;\n",
              "    }\n",
              "\n",
              "    [theme=dark] .colab-df-convert:hover {\n",
              "      background-color: #434B5C;\n",
              "      box-shadow: 0px 1px 3px 1px rgba(0, 0, 0, 0.15);\n",
              "      filter: drop-shadow(0px 1px 2px rgba(0, 0, 0, 0.3));\n",
              "      fill: #FFFFFF;\n",
              "    }\n",
              "  </style>\n",
              "\n",
              "    <script>\n",
              "      const buttonEl =\n",
              "        document.querySelector('#df-a47961a3-49b3-4bc9-a48a-dcbc0033b456 button.colab-df-convert');\n",
              "      buttonEl.style.display =\n",
              "        google.colab.kernel.accessAllowed ? 'block' : 'none';\n",
              "\n",
              "      async function convertToInteractive(key) {\n",
              "        const element = document.querySelector('#df-a47961a3-49b3-4bc9-a48a-dcbc0033b456');\n",
              "        const dataTable =\n",
              "          await google.colab.kernel.invokeFunction('convertToInteractive',\n",
              "                                                    [key], {});\n",
              "        if (!dataTable) return;\n",
              "\n",
              "        const docLinkHtml = 'Like what you see? Visit the ' +\n",
              "          '<a target=\"_blank\" href=https://colab.research.google.com/notebooks/data_table.ipynb>data table notebook</a>'\n",
              "          + ' to learn more about interactive tables.';\n",
              "        element.innerHTML = '';\n",
              "        dataTable['output_type'] = 'display_data';\n",
              "        await google.colab.output.renderOutput(dataTable, element);\n",
              "        const docLink = document.createElement('div');\n",
              "        docLink.innerHTML = docLinkHtml;\n",
              "        element.appendChild(docLink);\n",
              "      }\n",
              "    </script>\n",
              "  </div>\n",
              "\n",
              "\n",
              "<div id=\"df-f08650c2-43bf-4517-9ebd-0411fb91f08d\">\n",
              "  <button class=\"colab-df-quickchart\" onclick=\"quickchart('df-f08650c2-43bf-4517-9ebd-0411fb91f08d')\"\n",
              "            title=\"Suggest charts\"\n",
              "            style=\"display:none;\">\n",
              "\n",
              "<svg xmlns=\"http://www.w3.org/2000/svg\" height=\"24px\"viewBox=\"0 0 24 24\"\n",
              "     width=\"24px\">\n",
              "    <g>\n",
              "        <path d=\"M19 3H5c-1.1 0-2 .9-2 2v14c0 1.1.9 2 2 2h14c1.1 0 2-.9 2-2V5c0-1.1-.9-2-2-2zM9 17H7v-7h2v7zm4 0h-2V7h2v10zm4 0h-2v-4h2v4z\"/>\n",
              "    </g>\n",
              "</svg>\n",
              "  </button>\n",
              "\n",
              "<style>\n",
              "  .colab-df-quickchart {\n",
              "      --bg-color: #E8F0FE;\n",
              "      --fill-color: #1967D2;\n",
              "      --hover-bg-color: #E2EBFA;\n",
              "      --hover-fill-color: #174EA6;\n",
              "      --disabled-fill-color: #AAA;\n",
              "      --disabled-bg-color: #DDD;\n",
              "  }\n",
              "\n",
              "  [theme=dark] .colab-df-quickchart {\n",
              "      --bg-color: #3B4455;\n",
              "      --fill-color: #D2E3FC;\n",
              "      --hover-bg-color: #434B5C;\n",
              "      --hover-fill-color: #FFFFFF;\n",
              "      --disabled-bg-color: #3B4455;\n",
              "      --disabled-fill-color: #666;\n",
              "  }\n",
              "\n",
              "  .colab-df-quickchart {\n",
              "    background-color: var(--bg-color);\n",
              "    border: none;\n",
              "    border-radius: 50%;\n",
              "    cursor: pointer;\n",
              "    display: none;\n",
              "    fill: var(--fill-color);\n",
              "    height: 32px;\n",
              "    padding: 0;\n",
              "    width: 32px;\n",
              "  }\n",
              "\n",
              "  .colab-df-quickchart:hover {\n",
              "    background-color: var(--hover-bg-color);\n",
              "    box-shadow: 0 1px 2px rgba(60, 64, 67, 0.3), 0 1px 3px 1px rgba(60, 64, 67, 0.15);\n",
              "    fill: var(--button-hover-fill-color);\n",
              "  }\n",
              "\n",
              "  .colab-df-quickchart-complete:disabled,\n",
              "  .colab-df-quickchart-complete:disabled:hover {\n",
              "    background-color: var(--disabled-bg-color);\n",
              "    fill: var(--disabled-fill-color);\n",
              "    box-shadow: none;\n",
              "  }\n",
              "\n",
              "  .colab-df-spinner {\n",
              "    border: 2px solid var(--fill-color);\n",
              "    border-color: transparent;\n",
              "    border-bottom-color: var(--fill-color);\n",
              "    animation:\n",
              "      spin 1s steps(1) infinite;\n",
              "  }\n",
              "\n",
              "  @keyframes spin {\n",
              "    0% {\n",
              "      border-color: transparent;\n",
              "      border-bottom-color: var(--fill-color);\n",
              "      border-left-color: var(--fill-color);\n",
              "    }\n",
              "    20% {\n",
              "      border-color: transparent;\n",
              "      border-left-color: var(--fill-color);\n",
              "      border-top-color: var(--fill-color);\n",
              "    }\n",
              "    30% {\n",
              "      border-color: transparent;\n",
              "      border-left-color: var(--fill-color);\n",
              "      border-top-color: var(--fill-color);\n",
              "      border-right-color: var(--fill-color);\n",
              "    }\n",
              "    40% {\n",
              "      border-color: transparent;\n",
              "      border-right-color: var(--fill-color);\n",
              "      border-top-color: var(--fill-color);\n",
              "    }\n",
              "    60% {\n",
              "      border-color: transparent;\n",
              "      border-right-color: var(--fill-color);\n",
              "    }\n",
              "    80% {\n",
              "      border-color: transparent;\n",
              "      border-right-color: var(--fill-color);\n",
              "      border-bottom-color: var(--fill-color);\n",
              "    }\n",
              "    90% {\n",
              "      border-color: transparent;\n",
              "      border-bottom-color: var(--fill-color);\n",
              "    }\n",
              "  }\n",
              "</style>\n",
              "\n",
              "  <script>\n",
              "    async function quickchart(key) {\n",
              "      const quickchartButtonEl =\n",
              "        document.querySelector('#' + key + ' button');\n",
              "      quickchartButtonEl.disabled = true;  // To prevent multiple clicks.\n",
              "      quickchartButtonEl.classList.add('colab-df-spinner');\n",
              "      try {\n",
              "        const charts = await google.colab.kernel.invokeFunction(\n",
              "            'suggestCharts', [key], {});\n",
              "      } catch (error) {\n",
              "        console.error('Error during call to suggestCharts:', error);\n",
              "      }\n",
              "      quickchartButtonEl.classList.remove('colab-df-spinner');\n",
              "      quickchartButtonEl.classList.add('colab-df-quickchart-complete');\n",
              "    }\n",
              "    (() => {\n",
              "      let quickchartButtonEl =\n",
              "        document.querySelector('#df-f08650c2-43bf-4517-9ebd-0411fb91f08d button');\n",
              "      quickchartButtonEl.style.display =\n",
              "        google.colab.kernel.accessAllowed ? 'block' : 'none';\n",
              "    })();\n",
              "  </script>\n",
              "</div>\n",
              "\n",
              "    </div>\n",
              "  </div>\n"
            ],
            "text/plain": [
              "                                       Open          High           Low  \\\n",
              "1970-01-01 00:00:00.000003417  40075.550781  40254.480469  39545.664063   \n",
              "1970-01-01 00:00:00.000003418  39936.816406  42209.386719  39825.691406   \n",
              "1970-01-01 00:00:00.000003419  41815.625000  42195.632813  41431.281250   \n",
              "1970-01-01 00:00:00.000003420  42126.125000  42797.175781  41696.910156   \n",
              "\n",
              "                                    Volume  \n",
              "1970-01-01 00:00:00.000003417  18491782013  \n",
              "1970-01-01 00:00:00.000003418  25598119893  \n",
              "1970-01-01 00:00:00.000003419  11422941934  \n",
              "1970-01-01 00:00:00.000003420  16858971687  "
            ]
          },
          "execution_count": 10,
          "metadata": {},
          "output_type": "execute_result"
        }
      ],
      "source": [
        "X_check, y_check = split_sequences(X, y.reshape(-1, 1), 2, 1)\n",
        "X_check[-1][0:4]\n",
        "\n",
        "X.iloc[-149:-145]"
      ]
    },
    {
      "cell_type": "code",
      "execution_count": null,
      "metadata": {
        "colab": {
          "base_uri": "https://localhost:8080/"
        },
        "id": "D1-kKqLI0lYQ",
        "outputId": "3ad244e8-02bf-44cc-e24d-d0167d791f31"
      },
      "outputs": [
        {
          "data": {
            "text/plain": [
              "array([63727.816406])"
            ]
          },
          "execution_count": 11,
          "metadata": {},
          "output_type": "execute_result"
        }
      ],
      "source": [
        "y_check[-1]"
      ]
    },
    {
      "cell_type": "code",
      "execution_count": null,
      "metadata": {
        "colab": {
          "base_uri": "https://localhost:8080/"
        },
        "id": "eZuj1Qyu0nTJ",
        "outputId": "1593dd8e-e335-450c-bb9e-3a512091c12c"
      },
      "outputs": [
        {
          "data": {
            "text/plain": [
              "array([63727.816406])"
            ]
          },
          "execution_count": 12,
          "metadata": {},
          "output_type": "execute_result"
        }
      ],
      "source": [
        "hist.Close.values[-1:]"
      ]
    },
    {
      "cell_type": "markdown",
      "metadata": {
        "id": "N3z1bFMi1Axw"
      },
      "source": [
        "# LSTM Model"
      ]
    },
    {
      "cell_type": "code",
      "execution_count": null,
      "metadata": {
        "id": "P6yM2csq1EO3"
      },
      "outputs": [],
      "source": [
        "import torch.nn as nn\n",
        "\n",
        "class LSTM(nn.Module):\n",
        "\n",
        "    def __init__(self, num_classes, input_size, hidden_size, num_layers):\n",
        "        super().__init__()\n",
        "        self.num_classes = num_classes # output size\n",
        "        self.num_layers = num_layers # number of recurrent layers in the lstm\n",
        "        self.input_size = input_size # input size\n",
        "        self.hidden_size = hidden_size # neurons in each lstm layer\n",
        "        # LSTM model\n",
        "        self.lstm = nn.LSTM(input_size=input_size, hidden_size=hidden_size,\n",
        "                            num_layers=num_layers, batch_first=True, dropout=0.2) # lstm\n",
        "        self.fc_1 =  nn.Linear(hidden_size, 128) # fully connected\n",
        "        self.fc_2 = nn.Linear(128, num_classes) # fully connected last layer\n",
        "        self.relu = nn.ReLU()\n",
        "\n",
        "    def forward(self,x):\n",
        "        # hidden state\n",
        "        h_0 = torch.zeros(self.num_layers, x.size(0), self.hidden_size).to(x.device)\n",
        "        # cell state\n",
        "        c_0 = torch.zeros(self.num_layers, x.size(0), self.hidden_size).to(x.device)\n",
        "        # propagate input through LSTM\n",
        "        output, (hn, cn) = self.lstm(x, (h_0, c_0)) # (input, hidden, and internal state)\n",
        "        hn = hn.view(-1, self.hidden_size) # reshaping the data for Dense layer next\n",
        "        out = self.relu(hn)\n",
        "        out = self.fc_1(out) # first dense\n",
        "        out = self.relu(out) # relu\n",
        "        out = self.fc_2(out) # final output\n",
        "        return out"
      ]
    },
    {
      "cell_type": "markdown",
      "metadata": {
        "id": "k490yp2S_v-S"
      },
      "source": [
        "# Training"
      ]
    },
    {
      "cell_type": "code",
      "execution_count": null,
      "metadata": {
        "id": "NOM7JyN1_vnK"
      },
      "outputs": [],
      "source": [
        "def training_loop(n_epochs, lstm, optimiser, loss_fn, X_train, y_train,\n",
        "                  X_test, y_test):\n",
        "    for epoch in range(n_epochs):\n",
        "        lstm.train()\n",
        "        outputs = lstm.forward(X_train) # forward pass\n",
        "        optimiser.zero_grad() # calculate the gradient, manually setting to 0\n",
        "        # obtain the loss function\n",
        "        loss = loss_fn(outputs, y_train)\n",
        "        loss.backward() # calculates the loss of the loss function\n",
        "        optimiser.step() # improve from loss, i.e backprop\n",
        "        # test loss\n",
        "        lstm.eval()\n",
        "        test_preds = lstm(X_test)\n",
        "        test_loss = loss_fn(test_preds, y_test)\n",
        "        if epoch % 100 == 0:\n",
        "            print(\"Epoch: %d, train loss: %1.5f, test loss: %1.5f\" % (epoch,\n",
        "                                                                      loss.item(),\n",
        "                                                                      test_loss.item()))"
      ]
    },
    {
      "cell_type": "markdown",
      "metadata": {
        "id": "G7XX6boNgzc1"
      },
      "source": [
        "# Instance of a LSTM Model"
      ]
    },
    {
      "cell_type": "code",
      "execution_count": null,
      "metadata": {
        "id": "aIdXBEyigymq"
      },
      "outputs": [],
      "source": [
        "import warnings\n",
        "warnings.filterwarnings('ignore')\n",
        "\n",
        "n_epochs = 1000 # 1000 epochs\n",
        "learning_rate = 0.001 # 0.001 lr\n",
        "\n",
        "input_size = 4 # number of features\n",
        "hidden_size = 2 # number of features in hidden state\n",
        "num_layers = 1 # number of stacked lstm layers\n",
        "\n",
        "num_classes = 1 # number of output classes\n",
        "\n",
        "lstm = LSTM(num_classes,\n",
        "              input_size,\n",
        "              hidden_size,\n",
        "              num_layers)"
      ]
    },
    {
      "cell_type": "markdown",
      "metadata": {
        "id": "ugWnxRPNhY-r"
      },
      "source": [
        "# Training Loop (MSE as the loss function)"
      ]
    },
    {
      "cell_type": "code",
      "execution_count": null,
      "metadata": {
        "colab": {
          "base_uri": "https://localhost:8080/"
        },
        "id": "CRz6C0LGhcdy",
        "outputId": "e3678d8a-3546-48e1-b31e-8d9c92abf923"
      },
      "outputs": [
        {
          "name": "stdout",
          "output_type": "stream",
          "text": [
            "Epoch: 0, train loss: 0.32465, test loss: 1.35216\n",
            "Epoch: 100, train loss: 0.03357, test loss: 0.28098\n",
            "Epoch: 200, train loss: 0.00288, test loss: 0.05940\n",
            "Epoch: 300, train loss: 0.00188, test loss: 0.04825\n",
            "Epoch: 400, train loss: 0.00136, test loss: 0.03809\n",
            "Epoch: 500, train loss: 0.00088, test loss: 0.02833\n",
            "Epoch: 600, train loss: 0.00071, test loss: 0.02322\n",
            "Epoch: 700, train loss: 0.00059, test loss: 0.01971\n",
            "Epoch: 800, train loss: 0.00051, test loss: 0.01716\n",
            "Epoch: 900, train loss: 0.00043, test loss: 0.01483\n"
          ]
        }
      ],
      "source": [
        "loss_fn = torch.nn.MSELoss()    # mean-squared error for regression\n",
        "optimiser = torch.optim.Adam(lstm.parameters(), lr=learning_rate)\n",
        "\n",
        "\n",
        "training_loop(n_epochs=n_epochs,\n",
        "              lstm=lstm,\n",
        "              optimiser=optimiser,\n",
        "              loss_fn=loss_fn,\n",
        "              X_train=X_train_tensors_final,\n",
        "              y_train=y_train_tensors,\n",
        "              X_test=X_test_tensors_final,\n",
        "              y_test=y_test_tensors)\n",
        "\n"
      ]
    },
    {
      "cell_type": "code",
      "execution_count": null,
      "metadata": {
        "colab": {
          "base_uri": "https://localhost:8080/"
        },
        "id": "D5RS22VIpHYw",
        "outputId": "b8120ac1-ac41-4890-84b7-fd53da8717f7"
      },
      "outputs": [
        {
          "name": "stdout",
          "output_type": "stream",
          "text": [
            "Predicted Close price: 611.7787475585938\n"
          ]
        }
      ],
      "source": [
        "input_data = [\n",
        "    [465.864014, 468.174011, 452.421997, 21056800],  # Day 1\n",
        "    [456.859985, 456.859985, 413.104004, 34483200]]  # Day 2\n",
        "\n",
        "  # Assuming 'scaler' is already fitted to the training data\n",
        "input_data_scaled = ss.transform(input_data)  # Scale the data\n",
        "input_tensor = torch.Tensor(input_data_scaled).unsqueeze(0)  # Convert to tensor and add batch dimension\n",
        "\n",
        "# Make prediction with the LSTM model\n",
        "lstm.eval()  # Set the model to evaluation mode\n",
        "with torch.no_grad():  # Disable gradient computation\n",
        "    prediction_tensor = lstm(input_tensor)  # Make the prediction\n",
        "\n",
        "# Reshape the prediction to match the number of features\n",
        "prediction_reshaped = prediction_tensor.numpy().reshape(-1, 1)\n",
        "\n",
        "# Reverse the scaling of the prediction\n",
        "prediction_reshaped = mm.inverse_transform(prediction_reshaped)\n",
        "\n",
        "# Since we're only interested in the 'Close' price, select the relevant column\n",
        "predicted_close_price = prediction_reshaped[0][0]\n",
        "\n",
        "print(f\"Predicted Close price: {predicted_close_price}\")\n"
      ]
    },
    {
      "cell_type": "code",
      "execution_count": null,
      "metadata": {
        "id": "prgkgdvqYOvk"
      },
      "outputs": [],
      "source": [
        "import torch\n",
        "import joblib\n",
        "import numpy as np\n",
        "from azureml.core.model import Model\n",
        "\n",
        "# Load the model and scalers from the registered model\n",
        "def init():\n",
        "    global model\n",
        "    global ss\n",
        "    global mm\n",
        "    # Replace 'model_name' with the actual name of the model registered in Azure ML\n",
        "    model_path = Model.get_model_path('L')\n",
        "    model = joblib.load(model_path + '/lstm_model.pkl')\n",
        "    ss = joblib.load(model_path + '/standard_scaler.pkl')\n",
        "    mm = joblib.load(model_path + '/minmax_scaler.pkl')\n",
        "\n",
        "# Run the model to make predictions\n",
        "def run(raw_data):\n",
        "    try:\n",
        "        # Convert raw data into a format suitable for prediction\n",
        "        data = np.array(raw_data)\n",
        "        data = ss.transform(data)  # Scale the data\n",
        "        data = torch.Tensor(data).unsqueeze(0)  # Convert to tensor and add batch dimension\n",
        "\n",
        "        # Make prediction\n",
        "        model.eval()  # Set the model to evaluation mode\n",
        "        with torch.no_grad():  # Disable gradient computation\n",
        "            prediction_tensor = model(data)  # Make the prediction\n",
        "\n",
        "        # Reshape the prediction to match the number of features\n",
        "        prediction_reshaped = prediction_tensor.numpy().reshape(-1, 1)\n",
        "\n",
        "        # Reverse the scaling of the prediction\n",
        "        prediction = mm.inverse_transform(prediction_reshaped)\n",
        "\n",
        "        # Return the prediction\n",
        "        return prediction[0][0]\n",
        "    except Exception as e:\n",
        "        error = str(e)\n",
        "        return error\n"
      ]
    },
    {
      "cell_type": "markdown",
      "metadata": {
        "id": "Y1YsiofNjNAc"
      },
      "source": [
        "# Prediction"
      ]
    },
    {
      "cell_type": "code",
      "execution_count": null,
      "metadata": {
        "id": "IhoHdiuojQNa"
      },
      "outputs": [],
      "source": [
        "# import matplotlib.pyplot as plt\n",
        "\n",
        "# df_X_ss = ss.transform(hist.drop(columns=['Close'])) # old transformers\n",
        "# df_y_mm = mm.transform(hist.Close.values.reshape(-1, 1)) # old transformers\n",
        "# # split the sequence\n",
        "# df_X_ss, df_y_mm = split_sequences(df_X_ss, df_y_mm, 100, 1)\n",
        "# # converting to tensors\n",
        "# df_X_ss = torch.Tensor(df_X_ss)\n",
        "# df_y_mm = torch.Tensor(df_y_mm)\n",
        "# # reshaping the dataset\n",
        "# df_X_ss = torch.reshape(df_X_ss, (df_X_ss.shape[0], 100, df_X_ss.shape[2]))\n",
        "\n",
        "# train_predict = lstm(df_X_ss) # forward pass\n",
        "# data_predict = train_predict.data.numpy() # numpy conversion\n",
        "# dataY_plot = df_y_mm.data.numpy()\n",
        "\n",
        "# data_predict = mm.inverse_transform(data_predict) # reverse transformation\n",
        "\n",
        "# dataY_plot = mm.inverse_transform(dataY_plot)\n",
        "# true, preds = [], []\n",
        "# for i in range(len(dataY_plot)):\n",
        "#     true.append(dataY_plot[i][0])\n",
        "# for i in range(len(data_predict)):\n",
        "#     preds.append(data_predict[i][0])\n",
        "\n",
        "\n",
        "# plt.figure(figsize=(10,6)) #plotting\n",
        "# plt.axvline(x=train_test_cutoff, c='r', linestyle='--') # size of the training set\n",
        "\n",
        "# plt.plot(true, label='Actual Data') # actual plot\n",
        "# plt.plot(preds, label='Predicted Data') # predicted plot\n",
        "# plt.title('Time-Series Prediction')\n",
        "# plt.legend()\n",
        "# plt.savefig(\"whole_plot.png\", dpi=300)\n",
        "# plt.show()\n",
        "\n",
        "# print(preds[-1])"
      ]
    },
    {
      "cell_type": "markdown",
      "metadata": {
        "id": "4xtRAVdKnYUP"
      },
      "source": [
        "# Save as a pickle file"
      ]
    },
    {
      "cell_type": "code",
      "execution_count": null,
      "metadata": {
        "id": "wGy62sfOnciQ"
      },
      "outputs": [],
      "source": [
        "import pickle\n",
        "\n",
        "# Save the LSTM model\n",
        "with open('lstm_model.pkl', 'wb') as f:\n",
        "    pickle.dump(lstm, f)"
      ]
    },
    {
      "cell_type": "code",
      "execution_count": null,
      "metadata": {
        "id": "rzW0GFkvoOc0"
      },
      "outputs": [],
      "source": [
        "loaded_model = pickle.load(open('lstm_model.pkl', 'rb'))"
      ]
    },
    {
      "cell_type": "code",
      "execution_count": null,
      "metadata": {
        "colab": {
          "base_uri": "https://localhost:8080/"
        },
        "id": "gIw4ROLOoUIS",
        "outputId": "0baed1dd-b934-493b-ff6e-fbbc6ff52f9a"
      },
      "outputs": [
        {
          "name": "stdout",
          "output_type": "stream",
          "text": [
            "Predicted Close price: 611.7787475585938\n"
          ]
        }
      ],
      "source": [
        "input_data = [\n",
        "    [465.864014, 468.174011, 452.421997, 21056800],  # Day 1\n",
        "    [456.859985, 456.859985, 413.104004, 34483200]]  # Day 2\n",
        "\n",
        "  # Assuming 'scaler' is already fitted to the training data\n",
        "input_data_scaled = ss.transform(input_data)  # Scale the data\n",
        "input_tensor = torch.Tensor(input_data_scaled).unsqueeze(0)  # Convert to tensor and add batch dimension\n",
        "\n",
        "# Make prediction with the LSTM model\n",
        "loaded_model.eval()  # Set the model to evaluation mode\n",
        "with torch.no_grad():  # Disable gradient computation\n",
        "    prediction_tensor = loaded_model(input_tensor)  # Make the prediction\n",
        "\n",
        "# Reshape the prediction to match the number of features\n",
        "prediction_reshaped = prediction_tensor.numpy().reshape(-1, 1)\n",
        "\n",
        "# Reverse the scaling of the prediction\n",
        "prediction_reshaped = mm.inverse_transform(prediction_reshaped)\n",
        "\n",
        "# Since we're only interested in the 'Close' price, select the relevant column\n",
        "predicted_close_price = prediction_reshaped[0][0]\n",
        "\n",
        "print(f\"Predicted Close price: {predicted_close_price}\")\n"
      ]
    },
    {
      "cell_type": "markdown",
      "metadata": {
        "id": "F0wpzXi3-xwZ"
      },
      "source": [
        "# Model Evaluation"
      ]
    },
    {
      "cell_type": "markdown",
      "metadata": {
        "id": "eNP-84dFzCOR"
      },
      "source": [
        "## RMSE"
      ]
    },
    {
      "cell_type": "code",
      "execution_count": null,
      "metadata": {
        "colab": {
          "base_uri": "https://localhost:8080/"
        },
        "id": "jlgDpgSdzFNl",
        "outputId": "54aa401b-ecf5-4f5c-e59f-470f0d0ccd3e"
      },
      "outputs": [
        {
          "name": "stdout",
          "output_type": "stream",
          "text": [
            "Test RMSE: 0.022388571873307228\n"
          ]
        }
      ],
      "source": [
        "import torch\n",
        "\n",
        "# Function to evaluate the model\n",
        "def evaluate_model(model, X_test, y_test):\n",
        "    model.eval()  # Set the model to evaluation mode\n",
        "    with torch.no_grad():  # Turn off gradients for validation, saves memory and computations\n",
        "        predictions = model(X_test)\n",
        "        # Calculate the RMSE loss\n",
        "        mse = torch.mean((predictions - y_test)**2)  # Calculate mean squared error\n",
        "        rmse = torch.sqrt(mse)  # Calculate the square root of the MSE to get RMSE\n",
        "    return rmse.item()  # Return RMSE value\n",
        "\n",
        "# Call the evaluate_model function\n",
        "test_rmse = evaluate_model(lstm, X_test_tensors_final, y_test_tensors)\n",
        "print(f\"Test RMSE: {test_rmse}\")\n"
      ]
    },
    {
      "cell_type": "markdown",
      "metadata": {
        "id": "S1NgPjL5-3SX"
      },
      "source": [
        "## Test Loss"
      ]
    },
    {
      "cell_type": "code",
      "execution_count": null,
      "metadata": {
        "colab": {
          "base_uri": "https://localhost:8080/"
        },
        "id": "uwcFdd3OrlzL",
        "outputId": "4d511573-db74-439c-e401-b6927be5e69d"
      },
      "outputs": [
        {
          "name": "stdout",
          "output_type": "stream",
          "text": [
            "Test Loss: 0.0005012481124140322\n"
          ]
        }
      ],
      "source": [
        "import torch\n",
        "\n",
        "# Function to evaluate the model\n",
        "def evaluate_model(model, X_test, y_test):\n",
        "    model.eval()  # Set the model to evaluation mode\n",
        "    with torch.no_grad():  # Turn off gradients for validation, saves memory and computations\n",
        "        predictions = model(X_test)\n",
        "        # Calculate the loss\n",
        "        loss_fn = torch.nn.MSELoss()\n",
        "        loss = loss_fn(predictions, y_test)\n",
        "    return loss.item()\n",
        "\n",
        "# Call the evaluate_model function\n",
        "test_loss = evaluate_model(lstm, X_test_tensors_final, y_test_tensors)\n",
        "print(f\"Test Loss: {test_loss}\")\n"
      ]
    },
    {
      "cell_type": "markdown",
      "metadata": {
        "id": "f7B0lOtaDql2"
      },
      "source": [
        "## MAE"
      ]
    },
    {
      "cell_type": "code",
      "execution_count": null,
      "metadata": {
        "colab": {
          "base_uri": "https://localhost:8080/"
        },
        "id": "z_it8_hqDtqm",
        "outputId": "66e57e0c-e9e9-4562-a624-cb0334e8bd1e"
      },
      "outputs": [
        {
          "name": "stdout",
          "output_type": "stream",
          "text": [
            "Mean Absolute Error: 0.017877081409096718\n"
          ]
        }
      ],
      "source": [
        "import torch\n",
        "from torch.nn.functional import l1_loss\n",
        "\n",
        "# 'predictions' and 'true_values' are PyTorch tensors of the same shape\n",
        "predictions = lstm(X_test_tensors_final)\n",
        "true_values = y_test_tensors\n",
        "\n",
        "# Calculate MAE\n",
        "mae = l1_loss(predictions, true_values, reduction='mean').item()\n",
        "print(f\"Mean Absolute Error: {mae}\")\n",
        "\n"
      ]
    },
    {
      "cell_type": "markdown",
      "metadata": {
        "id": "RNEHlrdqEZlh"
      },
      "source": [
        "## R-squared"
      ]
    },
    {
      "cell_type": "code",
      "execution_count": null,
      "metadata": {
        "colab": {
          "base_uri": "https://localhost:8080/"
        },
        "id": "aRVVjQ28V2aG",
        "outputId": "14e0561e-2bb0-4080-eccc-1a4d0f739356"
      },
      "outputs": [
        {
          "name": "stdout",
          "output_type": "stream",
          "text": [
            "R-squared: 0.902178113624038\n"
          ]
        }
      ],
      "source": [
        "from sklearn.metrics import r2_score\n",
        "\n",
        "# lstm and X_test_tensors_final are already defined and lstm is trained\n",
        "lstm.eval()  # Set the model to evaluation mode\n",
        "y_pred = lstm(X_test_tensors_final)\n",
        "y_pred_numpy = y_pred.data.numpy()\n",
        "\n",
        "# y_test_tensors is the actual values tensor and mm is the MinMaxScaler\n",
        "y_test_numpy = y_test_tensors.data.numpy()\n",
        "\n",
        "# Inverse transform the scaled data to original scale\n",
        "y_pred_rescaled = mm.inverse_transform(y_pred_numpy)\n",
        "y_test_rescaled = mm.inverse_transform(y_test_numpy)\n",
        "\n",
        "# Calculate R-squared\n",
        "r_squared = r2_score(y_test_rescaled, y_pred_rescaled)\n",
        "print(f\"R-squared: {r_squared}\")\n",
        "\n",
        "\n"
      ]
    },
    {
      "cell_type": "markdown",
      "metadata": {
        "id": "xwbKcA3OXcDM"
      },
      "source": [
        "## MAPE"
      ]
    },
    {
      "cell_type": "code",
      "execution_count": null,
      "metadata": {
        "colab": {
          "base_uri": "https://localhost:8080/"
        },
        "id": "4U7_LZ_SXfb7",
        "outputId": "5dcaa7d7-8fa7-445c-8380-0717e1bfca6f"
      },
      "outputs": [
        {
          "name": "stdout",
          "output_type": "stream",
          "text": [
            "Test MAPE: 0.019540103152394295\n"
          ]
        }
      ],
      "source": [
        "import torch\n",
        "\n",
        "# Function to calculate MAPE\n",
        "def mean_absolute_percentage_error(y_true, y_pred, eps=1e-8):\n",
        "    # Avoid division by zero\n",
        "    y_true, y_pred = torch.tensor(y_true), torch.tensor(y_pred)\n",
        "    mape = torch.mean(torch.abs((y_true - y_pred) / torch.clamp(y_true, min=eps)))\n",
        "    return mape\n",
        "\n",
        "# Function to evaluate the model\n",
        "def evaluate_model(model, X_test, y_test):\n",
        "    model.eval()  # Set the model to evaluation mode\n",
        "    with torch.no_grad():  # Turn off gradients for validation, saves memory and computations\n",
        "        predictions = model(X_test)\n",
        "        # Calculate the MAPE\n",
        "        mape = mean_absolute_percentage_error(y_test, predictions)\n",
        "    return mape.item()\n",
        "\n",
        "# Call the evaluate_model function\n",
        "test_mape = evaluate_model(lstm, X_test_tensors_final, y_test_tensors)\n",
        "print(f\"Test MAPE: {test_mape}\")\n"
      ]
    }
  ],
  "metadata": {
    "colab": {
      "provenance": []
    },
    "kernelspec": {
      "display_name": "Python 3",
      "name": "python3"
    },
    "language_info": {
      "name": "python"
    }
  },
  "nbformat": 4,
  "nbformat_minor": 0
}
